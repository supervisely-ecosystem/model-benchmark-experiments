{
 "cells": [
  {
   "cell_type": "code",
   "execution_count": null,
   "metadata": {},
   "outputs": [],
   "source": [
    "import numpy as np\n",
    "from matplotlib import pyplot as plt\n",
    "from pycocotools.coco import COCO\n",
    "from pycocotools.cocoeval import COCOeval\n",
    "import plotly.express as px\n",
    "import plotly.graph_objects as go\n",
    "import pandas as pd\n",
    "from collections import defaultdict\n",
    "import random\n",
    "\n",
    "from model_benchmark import metrics, utils"
   ]
  },
  {
   "cell_type": "markdown",
   "metadata": {},
   "source": [
    "## Loading data"
   ]
  },
  {
   "cell_type": "code",
   "execution_count": null,
   "metadata": {},
   "outputs": [],
   "source": [
    "cocoGt = COCO(\"cocoGt.json\")\n",
    "cocoDt = cocoGt.loadRes(\"cocoDt.json\")\n",
    "# cocoEval = COCOeval(cocoGt, cocoDt, 'bbox')\n",
    "\n",
    "import pickle\n",
    "with open('eval_data.pkl', 'rb') as f:\n",
    "    eval_data = pickle.load(f)\n",
    "\n",
    "true_positives = eval_data[\"true_positives\"]\n",
    "false_positives = eval_data[\"false_positives\"]\n",
    "false_negatives = eval_data[\"false_negatives\"]\n",
    "matches = eval_data[\"matches\"]\n",
    "\n",
    "# basic calculation\n",
    "TP_count = int(true_positives[...,0].sum())\n",
    "FP_count = int(false_positives[...,0].sum())\n",
    "FN_count = int(false_negatives[...,0].sum())\n",
    "\n",
    "tp_matches = [m for m in matches if m['type'] == \"TP\"]\n",
    "fp_matches = [m for m in matches if m['type'] == \"FP\"]\n",
    "fn_matches = [m for m in matches if m['type'] == \"FN\"]\n",
    "confused_matches = [m for m in fp_matches if m['miss_cls']]\n",
    "fp_not_confused_matches = [m for m in fp_matches if not m['miss_cls']]\n",
    "\n",
    "# info\n",
    "cat_ids = cocoGt.getCatIds()\n",
    "cat_names = [cocoGt.cats[cat_id]['name'] for cat_id in cat_ids]"
   ]
  },
  {
   "cell_type": "code",
   "execution_count": null,
   "metadata": {},
   "outputs": [],
   "source": []
  }
 ],
 "metadata": {
  "kernelspec": {
   "display_name": "Python 3",
   "language": "python",
   "name": "python3"
  },
  "language_info": {
   "codemirror_mode": {
    "name": "ipython",
    "version": 3
   },
   "file_extension": ".py",
   "mimetype": "text/x-python",
   "name": "python",
   "nbconvert_exporter": "python",
   "pygments_lexer": "ipython3",
   "version": "3.8.10"
  }
 },
 "nbformat": 4,
 "nbformat_minor": 2
}
