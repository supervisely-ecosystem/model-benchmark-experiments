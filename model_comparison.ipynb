{
 "cells": [
  {
   "cell_type": "code",
   "execution_count": null,
   "metadata": {},
   "outputs": [],
   "source": [
    "import numpy as np\n",
    "from matplotlib import pyplot as plt\n",
    "from pycocotools.coco import COCO\n",
    "from pycocotools.cocoeval import COCOeval, Params\n",
    "import plotly.express as px\n",
    "import plotly.graph_objects as go\n",
    "import pandas as pd\n",
    "from collections import defaultdict\n",
    "import random\n",
    "import pickle\n",
    "\n",
    "from model_benchmark import metrics, utils\n",
    "from model_benchmark.metric_provider import MetricProvider, METRIC_NAMES\n",
    "from model_benchmark import metric_provider"
   ]
  },
  {
   "cell_type": "markdown",
   "metadata": {},
   "source": [
    "## Loading data"
   ]
  },
  {
   "cell_type": "code",
   "execution_count": null,
   "metadata": {},
   "outputs": [],
   "source": [
    "cocoGt_path = \"cocoGt_remap.json\"\n",
    "cocoDt1_path = \"data/model-benchmark/COCO 2017 val (YOLOv8-L, conf-0.01)/cocoDt.json\"\n",
    "cocoDt2_path = \"data/model-benchmark/COCO 2017 val (RT-DETR r34, conf-0.01)/cocoDt.json\"\n",
    "eval_data1_path = \"eval_data_conf-0.01.pkl\"\n",
    "eval_data2_path = \"eval_data_rtdetr_conf-0.01.pkl\""
   ]
  },
  {
   "cell_type": "code",
   "execution_count": null,
   "metadata": {},
   "outputs": [],
   "source": [
    "cocoGt = COCO(cocoGt_path)\n",
    "cocoDt1 = cocoGt.loadRes(cocoDt1_path)\n",
    "cocoDt2 = cocoGt.loadRes(cocoDt2_path)\n",
    "\n",
    "with open(eval_data1_path, 'rb') as f:\n",
    "    eval_data1 = pickle.load(f)\n",
    "\n",
    "with open(eval_data2_path, 'rb') as f:\n",
    "    eval_data2 = pickle.load(f)"
   ]
  },
  {
   "cell_type": "code",
   "execution_count": null,
   "metadata": {},
   "outputs": [],
   "source": [
    "from importlib import reload\n",
    "reload(metric_provider)\n",
    "m_full1 = metric_provider.MetricProvider(eval_data1['matches'], eval_data1['coco_metrics'], eval_data1['params'], cocoGt, cocoDt1)\n",
    "m_full1.model_name = \"YOLOv8-L\"\n",
    "m_full1.base_metrics()"
   ]
  },
  {
   "cell_type": "code",
   "execution_count": null,
   "metadata": {},
   "outputs": [],
   "source": [
    "from importlib import reload\n",
    "reload(metric_provider)\n",
    "m_full2 = metric_provider.MetricProvider(eval_data2['matches'], eval_data2['coco_metrics'], eval_data2['params'], cocoGt, cocoDt2)\n",
    "m_full2.model_name = \"RT-DETR r34\"\n",
    "m_full2.base_metrics()"
   ]
  },
  {
   "cell_type": "markdown",
   "metadata": {},
   "source": [
    "## F1-optimal conf"
   ]
  },
  {
   "cell_type": "code",
   "execution_count": null,
   "metadata": {},
   "outputs": [],
   "source": [
    "score_profile = m_full1.confidence_score_profile()\n",
    "# score_profile = m_full.confidence_score_profile_v0()\n",
    "f1_optimal_conf1, best_f1 = m_full1.get_f1_optimal_conf()\n",
    "print(f\"F1-Optimal confidence: {f1_optimal_conf1:.4f} with f1: {best_f1:.4f}\")\n",
    "\n",
    "matches_thresholded = metric_provider.filter_by_conf(eval_data1['matches'], f1_optimal_conf1)\n",
    "m1 = metric_provider.MetricProvider(matches_thresholded, eval_data1['coco_metrics'], eval_data1['params'], cocoGt, cocoDt1)\n",
    "m1.model_name = \"YOLOv8-L\"\n",
    "m1.base_metrics()"
   ]
  },
  {
   "cell_type": "code",
   "execution_count": null,
   "metadata": {},
   "outputs": [],
   "source": [
    "score_profile = m_full2.confidence_score_profile()\n",
    "# score_profile = m_full.confidence_score_profile_v0()\n",
    "f1_optimal_conf2, best_f1 = m_full2.get_f1_optimal_conf()\n",
    "print(f\"F1-Optimal confidence: {f1_optimal_conf2:.4f} with f1: {best_f1:.4f}\")\n",
    "\n",
    "matches_thresholded = metric_provider.filter_by_conf(eval_data2['matches'], f1_optimal_conf2)\n",
    "m2 = metric_provider.MetricProvider(matches_thresholded, eval_data2['coco_metrics'], eval_data2['params'], cocoGt, cocoDt2)\n",
    "m2.model_name = \"RT-DETR r34\"\n",
    "m2.base_metrics()"
   ]
  },
  {
   "cell_type": "code",
   "execution_count": null,
   "metadata": {},
   "outputs": [],
   "source": [
    "model_metrics = [m1, m2]\n",
    "model_metrics_full = [m_full1, m_full2]"
   ]
  },
  {
   "cell_type": "markdown",
   "metadata": {},
   "source": [
    "## Overview"
   ]
  },
  {
   "cell_type": "code",
   "execution_count": null,
   "metadata": {},
   "outputs": [],
   "source": [
    "# Overall Metrics comparison\n",
    "base_metrics1 = m1.base_metrics()\n",
    "base_metrics2 = m2.base_metrics()\n",
    "r1 = list(base_metrics1.values())\n",
    "r2 = list(base_metrics2.values())\n",
    "theta = [metric_provider.METRIC_NAMES[k] for k in base_metrics1.keys()]\n",
    "fig = go.Figure()\n",
    "fig.add_trace(go.Scatterpolar(\n",
    "    r=r1+[r1[0]], theta=theta+[theta[0]], name=m1.model_name,\n",
    "    hovertemplate='%{theta}: %{r:.2f}<extra></extra>',\n",
    "))\n",
    "fig.add_trace(go.Scatterpolar(\n",
    "    r=r2+[r2[0]], theta=theta+[theta[0]], name=m2.model_name,\n",
    "    hovertemplate='%{theta}: %{r:.2f}<extra></extra>',\n",
    "))\n",
    "fig.update_layout(polar=dict(radialaxis=dict(range=[0., 1.]),\n",
    "                             angularaxis=dict(rotation=90, direction='clockwise')),\n",
    "                  title=\"Overall Metrics\", width=600, height=500,)\n",
    "fig.show()"
   ]
  },
  {
   "cell_type": "code",
   "execution_count": null,
   "metadata": {},
   "outputs": [],
   "source": [
    "# Grouped bar chart\n",
    "base_metrics1 = m1.base_metrics()\n",
    "base_metrics2 = m2.base_metrics()\n",
    "df = pd.DataFrame({\n",
    "    \"metric\": [metric_provider.METRIC_NAMES[k] for k in base_metrics1.keys()],\n",
    "    m1.model_name: list(base_metrics1.values()),\n",
    "    m2.model_name: list(base_metrics2.values()),\n",
    "})\n",
    "fig = px.bar(df, x='metric', y=[m1.model_name, m2.model_name], barmode='group')\n",
    "fig.update_layout(title=\"Overall Metrics\")\n",
    "fig.show()"
   ]
  },
  {
   "cell_type": "markdown",
   "metadata": {},
   "source": [
    "## Outcome Counts"
   ]
  },
  {
   "cell_type": "code",
   "execution_count": null,
   "metadata": {},
   "outputs": [],
   "source": [
    "fig = go.Figure()\n",
    "fig.add_trace(go.Bar(x=[m1.TP_count], y=[m1.model_name], name='TP', orientation='h', marker=dict(color='#1fb466')))\n",
    "fig.add_trace(go.Bar(x=[m1.FN_count], y=[m1.model_name], name='FN', orientation='h', marker=dict(color='#dd3f3f')))\n",
    "fig.add_trace(go.Bar(x=[m1.FP_count], y=[m1.model_name], name='FP', orientation='h', marker=dict(color='#d5a5a5')))\n",
    "\n",
    "fig.add_trace(go.Bar(x=[m2.TP_count], y=[m2.model_name], name='TP', orientation='h', marker=dict(color='#1fb466')))\n",
    "fig.add_trace(go.Bar(x=[m2.FN_count], y=[m2.model_name], name='FN', orientation='h', marker=dict(color='#dd3f3f')))\n",
    "fig.add_trace(go.Bar(x=[m2.FP_count], y=[m2.model_name], name='FP', orientation='h', marker=dict(color='#d5a5a5')))\n",
    "              \n",
    "fig.update_layout(barmode='stack', title=\"Outcome Counts\",\n",
    "                  width=600, height=350)\n",
    "fig.update_xaxes(title_text=\"Count\")\n",
    "fig.update_yaxes(tickangle=0)\n",
    "fig.show()"
   ]
  },
  {
   "cell_type": "markdown",
   "metadata": {},
   "source": [
    "## Recall"
   ]
  },
  {
   "cell_type": "code",
   "execution_count": null,
   "metadata": {},
   "outputs": [],
   "source": [
    "blue_color = '#1f77b4'\n",
    "orange_color = '#ff7f0e'"
   ]
  },
  {
   "cell_type": "code",
   "execution_count": null,
   "metadata": {},
   "outputs": [],
   "source": [
    "per_class_metrics_df1 = m1.per_class_metrics()\n",
    "per_class_metrics_df2 = m2.per_class_metrics()\n",
    "\n",
    "f1_mean = (per_class_metrics_df1[\"f1\"] + per_class_metrics_df2[\"f1\"]) / 2\n",
    "f1_mean = f1_mean.sort_values()\n",
    "pr_mean = (per_class_metrics_df1[\"precision\"] + per_class_metrics_df2[\"precision\"]) / 2\n",
    "pr_mean = pr_mean.sort_values()\n",
    "rc_mean = (per_class_metrics_df1[\"recall\"] + per_class_metrics_df2[\"recall\"]) / 2\n",
    "rc_mean = rc_mean.sort_values()"
   ]
  },
  {
   "cell_type": "code",
   "execution_count": null,
   "metadata": {},
   "outputs": [],
   "source": [
    "# Per-class Precision line chart\n",
    "per_class_metrics_df_sorted1 = per_class_metrics_df1.iloc[f1_mean.index]\n",
    "per_class_metrics_df_sorted2 = per_class_metrics_df2.iloc[f1_mean.index]\n",
    "\n",
    "fig = go.Figure()\n",
    "fig.add_trace(go.Scatter(x=per_class_metrics_df_sorted1[\"category\"], y=per_class_metrics_df_sorted1[\"precision\"],\n",
    "                            mode='lines', name=m1.model_name, fill='tozeroy', line=dict(width=3)))\n",
    "fig.add_trace(go.Scatter(x=per_class_metrics_df_sorted2[\"category\"], y=per_class_metrics_df_sorted2[\"precision\"],\n",
    "                            mode='lines', name=m2.model_name, fill='tozeroy', line=dict(width=3)))\n",
    "\n",
    "fig.update_layout(title=\"Per-class Precision\", xaxis_title=\"Category\", yaxis_title=\"Precision\",\n",
    "                    width=None, height=500)\n",
    "fig.update_xaxes(tickangle=45)\n",
    "fig.update_yaxes(range=[0., 1.])\n",
    "fig.show()"
   ]
  },
  {
   "cell_type": "code",
   "execution_count": null,
   "metadata": {},
   "outputs": [],
   "source": [
    "# Per-class Recall line chart\n",
    "per_class_metrics_df_sorted1 = per_class_metrics_df1.iloc[f1_mean.index]\n",
    "per_class_metrics_df_sorted2 = per_class_metrics_df2.iloc[f1_mean.index]\n",
    "\n",
    "fig = go.Figure()\n",
    "fig.add_trace(go.Scatter(x=per_class_metrics_df_sorted1[\"category\"], y=per_class_metrics_df_sorted1[\"recall\"],\n",
    "                            mode='lines', name=m1.model_name, fill='tozeroy', line=dict(width=3)))\n",
    "fig.add_trace(go.Scatter(x=per_class_metrics_df_sorted2[\"category\"], y=per_class_metrics_df_sorted2[\"recall\"],\n",
    "                            mode='lines', name=m2.model_name, fill='tozeroy', line=dict(width=3)))\n",
    "\n",
    "fig.update_layout(title=\"Per-class Recall\", xaxis_title=\"Category\", yaxis_title=\"Recall\",\n",
    "                    width=None, height=500)\n",
    "fig.update_xaxes(tickangle=45)\n",
    "fig.update_yaxes(range=[0., 1.])\n",
    "fig.show()"
   ]
  },
  {
   "cell_type": "code",
   "execution_count": null,
   "metadata": {},
   "outputs": [],
   "source": [
    "# Per-class F1 bar chart\n",
    "per_class_metrics_df_sorted1 = per_class_metrics_df1.iloc[f1_mean.index]\n",
    "per_class_metrics_df_sorted2 = per_class_metrics_df2.iloc[f1_mean.index]\n",
    "\n",
    "fig = go.Figure()\n",
    "fig.add_trace(go.Scatter(x=per_class_metrics_df_sorted1[\"category\"], y=per_class_metrics_df_sorted1[\"f1\"],\n",
    "                            mode='lines', name=m1.model_name, fill='tozeroy', line=dict(width=3)))\n",
    "fig.add_trace(go.Scatter(x=per_class_metrics_df_sorted2[\"category\"], y=per_class_metrics_df_sorted2[\"f1\"],\n",
    "                            mode='lines', name=m2.model_name, fill='tozeroy', line=dict(width=3)))\n",
    "\n",
    "fig.update_layout(title=\"Per-class F1\", xaxis_title=\"Category\", yaxis_title=\"F1\",\n",
    "                    width=None, height=500)\n",
    "fig.update_xaxes(tickangle=45)\n",
    "fig.update_yaxes(range=[0., 1.])\n",
    "fig.show()"
   ]
  },
  {
   "cell_type": "markdown",
   "metadata": {},
   "source": [
    "## PR-curve"
   ]
  },
  {
   "cell_type": "code",
   "execution_count": null,
   "metadata": {},
   "outputs": [],
   "source": [
    "pr_curve1 = m1.pr_curve()\n",
    "pr_curve2 = m2.pr_curve()"
   ]
  },
  {
   "cell_type": "code",
   "execution_count": null,
   "metadata": {},
   "outputs": [],
   "source": [
    "import plotly.colors\n",
    "colors = px.colors.qualitative.Plotly\n",
    "colors_a = [f\"rgba{tuple(list(plotly.colors.hex_to_rgb(c))+[0.35])}\" for c in colors]"
   ]
  },
  {
   "cell_type": "code",
   "execution_count": null,
   "metadata": {},
   "outputs": [],
   "source": [
    "# Precision-Recall curve\n",
    "fig = go.Figure()\n",
    "fig.add_traces([\n",
    "    go.Scatter(x=m1.recThrs, y=pr_curve1.mean(-1), name=m1.model_name, line=dict(width=2, color=colors[0]), mode='lines', fill='tozeroy', fillcolor=colors_a[0]),\n",
    "    go.Scatter(x=m1.recThrs, y=pr_curve1.mean(-1), name=m1.model_name, line=dict(width=2, color=colors[0]), mode='lines', showlegend=False),\n",
    "    go.Scatter(x=m2.recThrs, y=pr_curve2.mean(-1), name=m2.model_name, line=dict(width=2, color=colors[1]), mode='lines', fill='tozeroy', fillcolor=colors_a[1]),\n",
    "    go.Scatter(x=m2.recThrs, y=pr_curve2.mean(-1), name=m2.model_name, line=dict(width=2, color=colors[1]), mode='lines', showlegend=False),\n",
    "])\n",
    "fig.update_layout(title=\"Precision-Recall Curve\", xaxis_title=\"Recall\", yaxis_title=\"Precision\",\n",
    "                    width=700, height=600)\n",
    "fig.update_yaxes(range=[0., 1.01])\n",
    "fig.update_xaxes(range=[0., 1.])\n",
    "fig.add_trace(\n",
    "    go.Scatter(\n",
    "        x=m1.recThrs,\n",
    "        y=[1]*len(m1.recThrs),\n",
    "        name=\"Perfect\",\n",
    "        line=dict(color='orange', dash='dash'),\n",
    "        showlegend=True\n",
    "    )\n",
    ")\n",
    "fig.show()"
   ]
  },
  {
   "cell_type": "markdown",
   "metadata": {},
   "source": [
    "## Calibration"
   ]
  },
  {
   "cell_type": "code",
   "execution_count": null,
   "metadata": {},
   "outputs": [],
   "source": [
    "# Calibration curve (only positive predictions)\n",
    "\n",
    "fig = go.Figure()\n",
    "\n",
    "for m_full in model_metrics_full:\n",
    "    true_probs, pred_probs = m_full.calibration_metrics.calibration_curve()\n",
    "    fig.add_trace(go.Scatter(x=pred_probs, y=true_probs, mode='lines+markers', name=m_full.model_name))\n",
    "\n",
    "# Perfectly calibrated line\n",
    "fig.add_trace(go.Scatter(x=[0, 1], y=[0, 1], mode='lines', name='Perfectly calibrated', \n",
    "                         line=dict(color='orange', dash='dash')))\n",
    "\n",
    "fig.update_layout(\n",
    "    title='Calibration Curve (only positive predictions)',\n",
    "    xaxis_title='Confidence Score',\n",
    "    yaxis_title='Fraction of True Positives',\n",
    "    legend=dict(x=0.6, y=0.1),\n",
    "    xaxis=dict(range=[0, 1]),\n",
    "    yaxis=dict(range=[0, 1]),\n",
    "    width=700, height=500\n",
    ")\n",
    "\n",
    "fig.show()"
   ]
  },
  {
   "cell_type": "code",
   "execution_count": null,
   "metadata": {},
   "outputs": [],
   "source": [
    "# Confidence score profile\n",
    "\n",
    "fig = go.Figure()\n",
    "for m_full in model_metrics_full:\n",
    "    score_profile = m_full.confidence_score_profile()\n",
    "    f1_optimal_conf, best_f1 = m_full.get_f1_optimal_conf()\n",
    "    f1 = score_profile['f1']\n",
    "    scores = score_profile['scores']\n",
    "\n",
    "    # downsample\n",
    "    if len(f1) > 5000:\n",
    "        f1 = f1[::len(f1)//1000]\n",
    "        scores = scores[::len(scores)//1000]\n",
    "\n",
    "    fig.add_trace(go.Scatter(x=scores, y=f1, mode='lines', name=m_full.model_name))\n",
    "\n",
    "    # Add vertical line for the best threshold\n",
    "    fig.add_shape(type=\"line\", x0=f1_optimal_conf, x1=f1_optimal_conf, y0=0, y1=best_f1, line=dict(color=\"gray\", width=1, dash=\"dash\"))\n",
    "    fig.add_annotation(x=f1_optimal_conf, y=best_f1+0.04, text=f\"F1-optimal threshold: {f1_optimal_conf:.2f}\", showarrow=False)\n",
    "    \n",
    "fig.update_layout(\n",
    "    yaxis=dict(range=[0, 1]),\n",
    "    xaxis=dict(range=[0, 1], tick0=0, dtick=0.1),\n",
    "    title='Confidence Score Profile',\n",
    "    xaxis_title='Confidence Score',\n",
    "    yaxis_title='F1',\n",
    "    width=None, height=500,\n",
    ")\n",
    "\n",
    "fig.show()"
   ]
  },
  {
   "cell_type": "markdown",
   "metadata": {},
   "source": [
    "## All Classes"
   ]
  },
  {
   "cell_type": "code",
   "execution_count": null,
   "metadata": {},
   "outputs": [],
   "source": [
    "# Per-class Average Precision (AP)\n",
    "\n",
    "fig = go.Figure()\n",
    "for m in model_metrics:\n",
    "    ap_per_class = m.coco_precision[:, :, :, 0, 2].mean(axis=(0, 1))\n",
    "    r = np.concatenate([ap_per_class, [ap_per_class[0]]])\n",
    "    theta = m.cat_names + [m.cat_names[0]]\n",
    "    fig.add_trace(go.Scatterpolar(r=r, theta=theta, name=m.model_name,\n",
    "                                  mode='lines+markers',\n",
    "                                  fill='toself',\n",
    "                                  hovertemplate='%{theta}: %{r:.2f} (AP)'))\n",
    "\n",
    "fig.update_layout(\n",
    "    polar=dict(\n",
    "        radialaxis=dict(range=[0, 1]),\n",
    "        angularaxis=dict(direction=\"clockwise\", rotation=90),\n",
    "        ),\n",
    "    title=\"Per-class Average Precision (AP)\",\n",
    "    width=800, height=800,\n",
    ")\n",
    "\n",
    "fig.show()"
   ]
  }
 ],
 "metadata": {
  "kernelspec": {
   "display_name": "Python 3",
   "language": "python",
   "name": "python3"
  },
  "language_info": {
   "codemirror_mode": {
    "name": "ipython",
    "version": 3
   },
   "file_extension": ".py",
   "mimetype": "text/x-python",
   "name": "python",
   "nbconvert_exporter": "python",
   "pygments_lexer": "ipython3",
   "version": "3.8.10"
  }
 },
 "nbformat": 4,
 "nbformat_minor": 2
}
