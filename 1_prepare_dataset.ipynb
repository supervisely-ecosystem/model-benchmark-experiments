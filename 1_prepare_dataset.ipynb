{
 "cells": [
  {
   "cell_type": "code",
   "execution_count": 3,
   "metadata": {},
   "outputs": [
    {
     "name": "stderr",
     "output_type": "stream",
     "text": [
      "/usr/local/lib/python3.8/dist-packages/tqdm/auto.py:22: TqdmWarning: IProgress not found. Please update jupyter and ipywidgets. See https://ipywidgets.readthedocs.io/en/stable/user_install.html\n",
      "  from .autonotebook import tqdm as notebook_tqdm\n"
     ]
    }
   ],
   "source": [
    "import os\n",
    "import json\n",
    "import supervisely as sly\n",
    "from model_benchmark import sly2coco"
   ]
  },
  {
   "cell_type": "code",
   "execution_count": 46,
   "metadata": {},
   "outputs": [],
   "source": [
    "gt_dataset_id = 87510\n",
    "dt_dataset_id = 87612\n",
    "save_path = 'data/model-benchmark'"
   ]
  },
  {
   "cell_type": "code",
   "execution_count": 47,
   "metadata": {},
   "outputs": [],
   "source": [
    "api = sly.Api()\n",
    "\n",
    "gt_dataset_info = api.dataset.get_info_by_id(gt_dataset_id)\n",
    "gt_dataset_name = gt_dataset_info.name\n",
    "gt_project_id = gt_dataset_info.project_id\n",
    "gt_project_info = api.project.get_info_by_id(gt_project_id)\n",
    "gt_project_name = gt_project_info.name\n",
    "\n",
    "dt_dataset_info = api.dataset.get_info_by_id(dt_dataset_id)\n",
    "dt_dataset_name = dt_dataset_info.name\n",
    "dt_project_id = dt_dataset_info.project_id\n",
    "dt_project_info = api.project.get_info_by_id(dt_project_id)\n",
    "dt_project_name = dt_project_info.name\n",
    "\n",
    "assert gt_dataset_name == dt_dataset_name\n",
    "\n",
    "save_project_path = os.path.join(save_path, dt_project_name)\n",
    "gt_project_path = os.path.join(save_project_path, \"gt_dataset\")\n",
    "dt_project_path = os.path.join(save_project_path, \"dt_dataset\")"
   ]
  },
  {
   "cell_type": "code",
   "execution_count": 48,
   "metadata": {},
   "outputs": [
    {
     "name": "stderr",
     "output_type": "stream",
     "text": [
      "{\"message\": \"progress\", \"event_type\": \"EventType.PROGRESS\", \"subtask\": \"Downloading dataset: 'val2017'\", \"current\": 0, \"total\": 5000, \"timestamp\": \"2024-05-22T11:22:46.246Z\", \"level\": \"info\"}\n",
      "{\"message\": \"progress\", \"event_type\": \"EventType.PROGRESS\", \"subtask\": \"Downloading dataset: 'val2017'\", \"current\": 50, \"total\": 5000, \"timestamp\": \"2024-05-22T11:22:47.347Z\", \"level\": \"info\"}\n",
      "{\"message\": \"progress\", \"event_type\": \"EventType.PROGRESS\", \"subtask\": \"Downloading dataset: 'val2017'\", \"current\": 100, \"total\": 5000, \"timestamp\": \"2024-05-22T11:22:48.251Z\", \"level\": \"info\"}\n",
      "{\"message\": \"progress\", \"event_type\": \"EventType.PROGRESS\", \"subtask\": \"Downloading dataset: 'val2017'\", \"current\": 150, \"total\": 5000, \"timestamp\": \"2024-05-22T11:22:49.033Z\", \"level\": \"info\"}\n",
      "{\"message\": \"progress\", \"event_type\": \"EventType.PROGRESS\", \"subtask\": \"Downloading dataset: 'val2017'\", \"current\": 200, \"total\": 5000, \"timestamp\": \"2024-05-22T11:22:49.945Z\", \"level\": \"info\"}\n",
      "{\"message\": \"progress\", \"event_type\": \"EventType.PROGRESS\", \"subtask\": \"Downloading dataset: 'val2017'\", \"current\": 250, \"total\": 5000, \"timestamp\": \"2024-05-22T11:22:50.889Z\", \"level\": \"info\"}\n",
      "{\"message\": \"progress\", \"event_type\": \"EventType.PROGRESS\", \"subtask\": \"Downloading dataset: 'val2017'\", \"current\": 300, \"total\": 5000, \"timestamp\": \"2024-05-22T11:22:52.166Z\", \"level\": \"info\"}\n",
      "{\"message\": \"progress\", \"event_type\": \"EventType.PROGRESS\", \"subtask\": \"Downloading dataset: 'val2017'\", \"current\": 350, \"total\": 5000, \"timestamp\": \"2024-05-22T11:22:53.160Z\", \"level\": \"info\"}\n",
      "{\"message\": \"progress\", \"event_type\": \"EventType.PROGRESS\", \"subtask\": \"Downloading dataset: 'val2017'\", \"current\": 400, \"total\": 5000, \"timestamp\": \"2024-05-22T11:22:54.285Z\", \"level\": \"info\"}\n",
      "{\"message\": \"progress\", \"event_type\": \"EventType.PROGRESS\", \"subtask\": \"Downloading dataset: 'val2017'\", \"current\": 450, \"total\": 5000, \"timestamp\": \"2024-05-22T11:22:55.173Z\", \"level\": \"info\"}\n",
      "{\"message\": \"progress\", \"event_type\": \"EventType.PROGRESS\", \"subtask\": \"Downloading dataset: 'val2017'\", \"current\": 500, \"total\": 5000, \"timestamp\": \"2024-05-22T11:22:55.936Z\", \"level\": \"info\"}\n",
      "{\"message\": \"progress\", \"event_type\": \"EventType.PROGRESS\", \"subtask\": \"Downloading dataset: 'val2017'\", \"current\": 550, \"total\": 5000, \"timestamp\": \"2024-05-22T11:22:56.716Z\", \"level\": \"info\"}\n",
      "{\"message\": \"progress\", \"event_type\": \"EventType.PROGRESS\", \"subtask\": \"Downloading dataset: 'val2017'\", \"current\": 600, \"total\": 5000, \"timestamp\": \"2024-05-22T11:22:57.676Z\", \"level\": \"info\"}\n",
      "{\"message\": \"progress\", \"event_type\": \"EventType.PROGRESS\", \"subtask\": \"Downloading dataset: 'val2017'\", \"current\": 650, \"total\": 5000, \"timestamp\": \"2024-05-22T11:22:58.507Z\", \"level\": \"info\"}\n",
      "{\"message\": \"progress\", \"event_type\": \"EventType.PROGRESS\", \"subtask\": \"Downloading dataset: 'val2017'\", \"current\": 700, \"total\": 5000, \"timestamp\": \"2024-05-22T11:22:59.355Z\", \"level\": \"info\"}\n",
      "{\"message\": \"progress\", \"event_type\": \"EventType.PROGRESS\", \"subtask\": \"Downloading dataset: 'val2017'\", \"current\": 750, \"total\": 5000, \"timestamp\": \"2024-05-22T11:23:00.286Z\", \"level\": \"info\"}\n",
      "{\"message\": \"progress\", \"event_type\": \"EventType.PROGRESS\", \"subtask\": \"Downloading dataset: 'val2017'\", \"current\": 800, \"total\": 5000, \"timestamp\": \"2024-05-22T11:23:01.211Z\", \"level\": \"info\"}\n",
      "{\"message\": \"progress\", \"event_type\": \"EventType.PROGRESS\", \"subtask\": \"Downloading dataset: 'val2017'\", \"current\": 850, \"total\": 5000, \"timestamp\": \"2024-05-22T11:23:02.086Z\", \"level\": \"info\"}\n",
      "{\"message\": \"progress\", \"event_type\": \"EventType.PROGRESS\", \"subtask\": \"Downloading dataset: 'val2017'\", \"current\": 900, \"total\": 5000, \"timestamp\": \"2024-05-22T11:23:02.906Z\", \"level\": \"info\"}\n",
      "{\"message\": \"progress\", \"event_type\": \"EventType.PROGRESS\", \"subtask\": \"Downloading dataset: 'val2017'\", \"current\": 950, \"total\": 5000, \"timestamp\": \"2024-05-22T11:23:03.981Z\", \"level\": \"info\"}\n",
      "{\"message\": \"progress\", \"event_type\": \"EventType.PROGRESS\", \"subtask\": \"Downloading dataset: 'val2017'\", \"current\": 1000, \"total\": 5000, \"timestamp\": \"2024-05-22T11:23:04.921Z\", \"level\": \"info\"}\n",
      "{\"message\": \"progress\", \"event_type\": \"EventType.PROGRESS\", \"subtask\": \"Downloading dataset: 'val2017'\", \"current\": 1050, \"total\": 5000, \"timestamp\": \"2024-05-22T11:23:05.779Z\", \"level\": \"info\"}\n",
      "{\"message\": \"progress\", \"event_type\": \"EventType.PROGRESS\", \"subtask\": \"Downloading dataset: 'val2017'\", \"current\": 1100, \"total\": 5000, \"timestamp\": \"2024-05-22T11:23:06.597Z\", \"level\": \"info\"}\n",
      "{\"message\": \"progress\", \"event_type\": \"EventType.PROGRESS\", \"subtask\": \"Downloading dataset: 'val2017'\", \"current\": 1150, \"total\": 5000, \"timestamp\": \"2024-05-22T11:23:07.628Z\", \"level\": \"info\"}\n",
      "{\"message\": \"progress\", \"event_type\": \"EventType.PROGRESS\", \"subtask\": \"Downloading dataset: 'val2017'\", \"current\": 1200, \"total\": 5000, \"timestamp\": \"2024-05-22T11:23:08.608Z\", \"level\": \"info\"}\n",
      "{\"message\": \"progress\", \"event_type\": \"EventType.PROGRESS\", \"subtask\": \"Downloading dataset: 'val2017'\", \"current\": 1250, \"total\": 5000, \"timestamp\": \"2024-05-22T11:23:09.766Z\", \"level\": \"info\"}\n",
      "{\"message\": \"progress\", \"event_type\": \"EventType.PROGRESS\", \"subtask\": \"Downloading dataset: 'val2017'\", \"current\": 1300, \"total\": 5000, \"timestamp\": \"2024-05-22T11:23:10.706Z\", \"level\": \"info\"}\n",
      "{\"message\": \"progress\", \"event_type\": \"EventType.PROGRESS\", \"subtask\": \"Downloading dataset: 'val2017'\", \"current\": 1350, \"total\": 5000, \"timestamp\": \"2024-05-22T11:23:11.836Z\", \"level\": \"info\"}\n",
      "{\"message\": \"progress\", \"event_type\": \"EventType.PROGRESS\", \"subtask\": \"Downloading dataset: 'val2017'\", \"current\": 1400, \"total\": 5000, \"timestamp\": \"2024-05-22T11:23:12.908Z\", \"level\": \"info\"}\n",
      "{\"message\": \"progress\", \"event_type\": \"EventType.PROGRESS\", \"subtask\": \"Downloading dataset: 'val2017'\", \"current\": 1450, \"total\": 5000, \"timestamp\": \"2024-05-22T11:23:13.928Z\", \"level\": \"info\"}\n",
      "{\"message\": \"progress\", \"event_type\": \"EventType.PROGRESS\", \"subtask\": \"Downloading dataset: 'val2017'\", \"current\": 1500, \"total\": 5000, \"timestamp\": \"2024-05-22T11:23:14.787Z\", \"level\": \"info\"}\n",
      "{\"message\": \"progress\", \"event_type\": \"EventType.PROGRESS\", \"subtask\": \"Downloading dataset: 'val2017'\", \"current\": 1550, \"total\": 5000, \"timestamp\": \"2024-05-22T11:23:15.738Z\", \"level\": \"info\"}\n",
      "{\"message\": \"progress\", \"event_type\": \"EventType.PROGRESS\", \"subtask\": \"Downloading dataset: 'val2017'\", \"current\": 1600, \"total\": 5000, \"timestamp\": \"2024-05-22T11:23:16.630Z\", \"level\": \"info\"}\n",
      "{\"message\": \"progress\", \"event_type\": \"EventType.PROGRESS\", \"subtask\": \"Downloading dataset: 'val2017'\", \"current\": 1650, \"total\": 5000, \"timestamp\": \"2024-05-22T11:23:17.512Z\", \"level\": \"info\"}\n",
      "{\"message\": \"progress\", \"event_type\": \"EventType.PROGRESS\", \"subtask\": \"Downloading dataset: 'val2017'\", \"current\": 1700, \"total\": 5000, \"timestamp\": \"2024-05-22T11:23:18.441Z\", \"level\": \"info\"}\n",
      "{\"message\": \"progress\", \"event_type\": \"EventType.PROGRESS\", \"subtask\": \"Downloading dataset: 'val2017'\", \"current\": 1750, \"total\": 5000, \"timestamp\": \"2024-05-22T11:23:19.307Z\", \"level\": \"info\"}\n",
      "{\"message\": \"progress\", \"event_type\": \"EventType.PROGRESS\", \"subtask\": \"Downloading dataset: 'val2017'\", \"current\": 1800, \"total\": 5000, \"timestamp\": \"2024-05-22T11:23:20.265Z\", \"level\": \"info\"}\n",
      "{\"message\": \"progress\", \"event_type\": \"EventType.PROGRESS\", \"subtask\": \"Downloading dataset: 'val2017'\", \"current\": 1850, \"total\": 5000, \"timestamp\": \"2024-05-22T11:23:21.144Z\", \"level\": \"info\"}\n",
      "{\"message\": \"progress\", \"event_type\": \"EventType.PROGRESS\", \"subtask\": \"Downloading dataset: 'val2017'\", \"current\": 1900, \"total\": 5000, \"timestamp\": \"2024-05-22T11:23:21.961Z\", \"level\": \"info\"}\n",
      "{\"message\": \"progress\", \"event_type\": \"EventType.PROGRESS\", \"subtask\": \"Downloading dataset: 'val2017'\", \"current\": 1950, \"total\": 5000, \"timestamp\": \"2024-05-22T11:23:23.026Z\", \"level\": \"info\"}\n",
      "{\"message\": \"progress\", \"event_type\": \"EventType.PROGRESS\", \"subtask\": \"Downloading dataset: 'val2017'\", \"current\": 2000, \"total\": 5000, \"timestamp\": \"2024-05-22T11:23:23.894Z\", \"level\": \"info\"}\n",
      "{\"message\": \"progress\", \"event_type\": \"EventType.PROGRESS\", \"subtask\": \"Downloading dataset: 'val2017'\", \"current\": 2050, \"total\": 5000, \"timestamp\": \"2024-05-22T11:23:24.806Z\", \"level\": \"info\"}\n",
      "{\"message\": \"progress\", \"event_type\": \"EventType.PROGRESS\", \"subtask\": \"Downloading dataset: 'val2017'\", \"current\": 2100, \"total\": 5000, \"timestamp\": \"2024-05-22T11:23:25.575Z\", \"level\": \"info\"}\n",
      "{\"message\": \"progress\", \"event_type\": \"EventType.PROGRESS\", \"subtask\": \"Downloading dataset: 'val2017'\", \"current\": 2150, \"total\": 5000, \"timestamp\": \"2024-05-22T11:23:26.487Z\", \"level\": \"info\"}\n",
      "{\"message\": \"progress\", \"event_type\": \"EventType.PROGRESS\", \"subtask\": \"Downloading dataset: 'val2017'\", \"current\": 2200, \"total\": 5000, \"timestamp\": \"2024-05-22T11:23:27.434Z\", \"level\": \"info\"}\n",
      "{\"message\": \"progress\", \"event_type\": \"EventType.PROGRESS\", \"subtask\": \"Downloading dataset: 'val2017'\", \"current\": 2250, \"total\": 5000, \"timestamp\": \"2024-05-22T11:23:28.342Z\", \"level\": \"info\"}\n",
      "{\"message\": \"progress\", \"event_type\": \"EventType.PROGRESS\", \"subtask\": \"Downloading dataset: 'val2017'\", \"current\": 2300, \"total\": 5000, \"timestamp\": \"2024-05-22T11:23:29.286Z\", \"level\": \"info\"}\n",
      "{\"message\": \"progress\", \"event_type\": \"EventType.PROGRESS\", \"subtask\": \"Downloading dataset: 'val2017'\", \"current\": 2350, \"total\": 5000, \"timestamp\": \"2024-05-22T11:23:30.176Z\", \"level\": \"info\"}\n",
      "{\"message\": \"progress\", \"event_type\": \"EventType.PROGRESS\", \"subtask\": \"Downloading dataset: 'val2017'\", \"current\": 2400, \"total\": 5000, \"timestamp\": \"2024-05-22T11:23:30.954Z\", \"level\": \"info\"}\n",
      "{\"message\": \"progress\", \"event_type\": \"EventType.PROGRESS\", \"subtask\": \"Downloading dataset: 'val2017'\", \"current\": 2450, \"total\": 5000, \"timestamp\": \"2024-05-22T11:23:32.005Z\", \"level\": \"info\"}\n",
      "{\"message\": \"progress\", \"event_type\": \"EventType.PROGRESS\", \"subtask\": \"Downloading dataset: 'val2017'\", \"current\": 2500, \"total\": 5000, \"timestamp\": \"2024-05-22T11:23:32.946Z\", \"level\": \"info\"}\n",
      "{\"message\": \"progress\", \"event_type\": \"EventType.PROGRESS\", \"subtask\": \"Downloading dataset: 'val2017'\", \"current\": 2550, \"total\": 5000, \"timestamp\": \"2024-05-22T11:23:33.803Z\", \"level\": \"info\"}\n",
      "{\"message\": \"progress\", \"event_type\": \"EventType.PROGRESS\", \"subtask\": \"Downloading dataset: 'val2017'\", \"current\": 2600, \"total\": 5000, \"timestamp\": \"2024-05-22T11:23:34.711Z\", \"level\": \"info\"}\n",
      "{\"message\": \"progress\", \"event_type\": \"EventType.PROGRESS\", \"subtask\": \"Downloading dataset: 'val2017'\", \"current\": 2650, \"total\": 5000, \"timestamp\": \"2024-05-22T11:23:35.558Z\", \"level\": \"info\"}\n",
      "{\"message\": \"progress\", \"event_type\": \"EventType.PROGRESS\", \"subtask\": \"Downloading dataset: 'val2017'\", \"current\": 2700, \"total\": 5000, \"timestamp\": \"2024-05-22T11:23:36.420Z\", \"level\": \"info\"}\n",
      "{\"message\": \"progress\", \"event_type\": \"EventType.PROGRESS\", \"subtask\": \"Downloading dataset: 'val2017'\", \"current\": 2750, \"total\": 5000, \"timestamp\": \"2024-05-22T11:23:37.266Z\", \"level\": \"info\"}\n",
      "{\"message\": \"progress\", \"event_type\": \"EventType.PROGRESS\", \"subtask\": \"Downloading dataset: 'val2017'\", \"current\": 2800, \"total\": 5000, \"timestamp\": \"2024-05-22T11:23:38.198Z\", \"level\": \"info\"}\n",
      "{\"message\": \"progress\", \"event_type\": \"EventType.PROGRESS\", \"subtask\": \"Downloading dataset: 'val2017'\", \"current\": 2850, \"total\": 5000, \"timestamp\": \"2024-05-22T11:23:39.062Z\", \"level\": \"info\"}\n",
      "{\"message\": \"progress\", \"event_type\": \"EventType.PROGRESS\", \"subtask\": \"Downloading dataset: 'val2017'\", \"current\": 2900, \"total\": 5000, \"timestamp\": \"2024-05-22T11:23:40.050Z\", \"level\": \"info\"}\n",
      "{\"message\": \"progress\", \"event_type\": \"EventType.PROGRESS\", \"subtask\": \"Downloading dataset: 'val2017'\", \"current\": 2950, \"total\": 5000, \"timestamp\": \"2024-05-22T11:23:40.873Z\", \"level\": \"info\"}\n",
      "{\"message\": \"progress\", \"event_type\": \"EventType.PROGRESS\", \"subtask\": \"Downloading dataset: 'val2017'\", \"current\": 3000, \"total\": 5000, \"timestamp\": \"2024-05-22T11:23:42.052Z\", \"level\": \"info\"}\n",
      "{\"message\": \"progress\", \"event_type\": \"EventType.PROGRESS\", \"subtask\": \"Downloading dataset: 'val2017'\", \"current\": 3050, \"total\": 5000, \"timestamp\": \"2024-05-22T11:23:43.079Z\", \"level\": \"info\"}\n",
      "{\"message\": \"progress\", \"event_type\": \"EventType.PROGRESS\", \"subtask\": \"Downloading dataset: 'val2017'\", \"current\": 3100, \"total\": 5000, \"timestamp\": \"2024-05-22T11:23:44.034Z\", \"level\": \"info\"}\n",
      "{\"message\": \"progress\", \"event_type\": \"EventType.PROGRESS\", \"subtask\": \"Downloading dataset: 'val2017'\", \"current\": 3150, \"total\": 5000, \"timestamp\": \"2024-05-22T11:23:44.975Z\", \"level\": \"info\"}\n",
      "{\"message\": \"progress\", \"event_type\": \"EventType.PROGRESS\", \"subtask\": \"Downloading dataset: 'val2017'\", \"current\": 3200, \"total\": 5000, \"timestamp\": \"2024-05-22T11:23:45.884Z\", \"level\": \"info\"}\n",
      "{\"message\": \"progress\", \"event_type\": \"EventType.PROGRESS\", \"subtask\": \"Downloading dataset: 'val2017'\", \"current\": 3250, \"total\": 5000, \"timestamp\": \"2024-05-22T11:23:46.814Z\", \"level\": \"info\"}\n",
      "{\"message\": \"progress\", \"event_type\": \"EventType.PROGRESS\", \"subtask\": \"Downloading dataset: 'val2017'\", \"current\": 3300, \"total\": 5000, \"timestamp\": \"2024-05-22T11:23:47.751Z\", \"level\": \"info\"}\n",
      "{\"message\": \"progress\", \"event_type\": \"EventType.PROGRESS\", \"subtask\": \"Downloading dataset: 'val2017'\", \"current\": 3350, \"total\": 5000, \"timestamp\": \"2024-05-22T11:23:48.690Z\", \"level\": \"info\"}\n",
      "{\"message\": \"progress\", \"event_type\": \"EventType.PROGRESS\", \"subtask\": \"Downloading dataset: 'val2017'\", \"current\": 3400, \"total\": 5000, \"timestamp\": \"2024-05-22T11:23:49.632Z\", \"level\": \"info\"}\n",
      "{\"message\": \"progress\", \"event_type\": \"EventType.PROGRESS\", \"subtask\": \"Downloading dataset: 'val2017'\", \"current\": 3450, \"total\": 5000, \"timestamp\": \"2024-05-22T11:23:50.474Z\", \"level\": \"info\"}\n",
      "{\"message\": \"progress\", \"event_type\": \"EventType.PROGRESS\", \"subtask\": \"Downloading dataset: 'val2017'\", \"current\": 3500, \"total\": 5000, \"timestamp\": \"2024-05-22T11:23:51.622Z\", \"level\": \"info\"}\n",
      "{\"message\": \"progress\", \"event_type\": \"EventType.PROGRESS\", \"subtask\": \"Downloading dataset: 'val2017'\", \"current\": 3550, \"total\": 5000, \"timestamp\": \"2024-05-22T11:23:52.640Z\", \"level\": \"info\"}\n",
      "{\"message\": \"progress\", \"event_type\": \"EventType.PROGRESS\", \"subtask\": \"Downloading dataset: 'val2017'\", \"current\": 3600, \"total\": 5000, \"timestamp\": \"2024-05-22T11:23:53.883Z\", \"level\": \"info\"}\n",
      "{\"message\": \"Temporary connection error, please wait ...:  Retrying (1/10).\", \"method\": \"instance.version\", \"url\": \"https://dev.supervisely.com/public/api/v3/instance.version\", \"details\": \"502 Server Error: Bad Gateway for url: https://dev.supervisely.com/public/api/v3/instance.version (Bad Gateway)\", \"timestamp\": \"2024-05-22T11:23:57.829Z\", \"level\": \"warn\"}\n",
      "{\"message\": \"Temporary connection error, please wait ...:  Retrying (1/10).\", \"method\": \"instance.version\", \"url\": \"https://dev.supervisely.com/public/api/v3/instance.version\", \"details\": \"502 Server Error: Bad Gateway for url: https://dev.supervisely.com/public/api/v3/instance.version (Bad Gateway)\", \"timestamp\": \"2024-05-22T11:23:59.061Z\", \"level\": \"warn\"}\n",
      "{\"message\": \"Temporary connection error, please wait ...:  Retrying (1/10).\", \"method\": \"instance.version\", \"url\": \"https://dev.supervisely.com/public/api/v3/instance.version\", \"details\": \"502 Server Error: Bad Gateway for url: https://dev.supervisely.com/public/api/v3/instance.version (Bad Gateway)\", \"timestamp\": \"2024-05-22T11:24:00.294Z\", \"level\": \"warn\"}\n",
      "{\"message\": \"Temporary connection error, please wait ...:  Retrying (1/10).\", \"method\": \"instance.version\", \"url\": \"https://dev.supervisely.com/public/api/v3/instance.version\", \"details\": \"502 Server Error: Bad Gateway for url: https://dev.supervisely.com/public/api/v3/instance.version (Bad Gateway)\", \"timestamp\": \"2024-05-22T11:24:01.516Z\", \"level\": \"warn\"}\n",
      "{\"message\": \"Temporary connection error, please wait ...:  Retrying (1/10).\", \"method\": \"instance.version\", \"url\": \"https://dev.supervisely.com/public/api/v3/instance.version\", \"details\": \"502 Server Error: Bad Gateway for url: https://dev.supervisely.com/public/api/v3/instance.version (Bad Gateway)\", \"timestamp\": \"2024-05-22T11:24:02.767Z\", \"level\": \"warn\"}\n",
      "{\"message\": \"Temporary connection error, please wait ...:  Retrying (1/10).\", \"method\": \"instance.version\", \"url\": \"https://dev.supervisely.com/public/api/v3/instance.version\", \"details\": \"502 Server Error: Bad Gateway for url: https://dev.supervisely.com/public/api/v3/instance.version (Bad Gateway)\", \"timestamp\": \"2024-05-22T11:24:04.021Z\", \"level\": \"warn\"}\n",
      "{\"message\": \"Temporary connection error, please wait ...:  Retrying (1/10).\", \"method\": \"instance.version\", \"url\": \"https://dev.supervisely.com/public/api/v3/instance.version\", \"details\": \"502 Server Error: Bad Gateway for url: https://dev.supervisely.com/public/api/v3/instance.version (Bad Gateway)\", \"timestamp\": \"2024-05-22T11:24:05.250Z\", \"level\": \"warn\"}\n",
      "{\"message\": \"Temporary connection error, please wait ...:  Retrying (1/10).\", \"method\": \"annotations.bulk.info\", \"url\": \"https://dev.supervisely.com/public/api/v3/annotations.bulk.info\", \"details\": \"502 Server Error: Bad Gateway for url: https://dev.supervisely.com/public/api/v3/annotations.bulk.info (Bad Gateway)\", \"timestamp\": \"2024-05-22T11:24:06.491Z\", \"level\": \"warn\"}\n",
      "{\"message\": \"progress\", \"event_type\": \"EventType.PROGRESS\", \"subtask\": \"Downloading dataset: 'val2017'\", \"current\": 3650, \"total\": 5000, \"timestamp\": \"2024-05-22T11:24:08.639Z\", \"level\": \"info\"}\n",
      "{\"message\": \"progress\", \"event_type\": \"EventType.PROGRESS\", \"subtask\": \"Downloading dataset: 'val2017'\", \"current\": 3700, \"total\": 5000, \"timestamp\": \"2024-05-22T11:24:09.409Z\", \"level\": \"info\"}\n",
      "{\"message\": \"progress\", \"event_type\": \"EventType.PROGRESS\", \"subtask\": \"Downloading dataset: 'val2017'\", \"current\": 3750, \"total\": 5000, \"timestamp\": \"2024-05-22T11:24:10.326Z\", \"level\": \"info\"}\n",
      "{\"message\": \"progress\", \"event_type\": \"EventType.PROGRESS\", \"subtask\": \"Downloading dataset: 'val2017'\", \"current\": 3800, \"total\": 5000, \"timestamp\": \"2024-05-22T11:24:11.115Z\", \"level\": \"info\"}\n",
      "{\"message\": \"progress\", \"event_type\": \"EventType.PROGRESS\", \"subtask\": \"Downloading dataset: 'val2017'\", \"current\": 3850, \"total\": 5000, \"timestamp\": \"2024-05-22T11:24:12.062Z\", \"level\": \"info\"}\n",
      "{\"message\": \"progress\", \"event_type\": \"EventType.PROGRESS\", \"subtask\": \"Downloading dataset: 'val2017'\", \"current\": 3900, \"total\": 5000, \"timestamp\": \"2024-05-22T11:24:12.941Z\", \"level\": \"info\"}\n",
      "{\"message\": \"progress\", \"event_type\": \"EventType.PROGRESS\", \"subtask\": \"Downloading dataset: 'val2017'\", \"current\": 3950, \"total\": 5000, \"timestamp\": \"2024-05-22T11:24:13.714Z\", \"level\": \"info\"}\n",
      "{\"message\": \"progress\", \"event_type\": \"EventType.PROGRESS\", \"subtask\": \"Downloading dataset: 'val2017'\", \"current\": 4000, \"total\": 5000, \"timestamp\": \"2024-05-22T11:24:14.737Z\", \"level\": \"info\"}\n",
      "{\"message\": \"progress\", \"event_type\": \"EventType.PROGRESS\", \"subtask\": \"Downloading dataset: 'val2017'\", \"current\": 4050, \"total\": 5000, \"timestamp\": \"2024-05-22T11:24:15.577Z\", \"level\": \"info\"}\n",
      "{\"message\": \"progress\", \"event_type\": \"EventType.PROGRESS\", \"subtask\": \"Downloading dataset: 'val2017'\", \"current\": 4100, \"total\": 5000, \"timestamp\": \"2024-05-22T11:24:16.455Z\", \"level\": \"info\"}\n",
      "{\"message\": \"progress\", \"event_type\": \"EventType.PROGRESS\", \"subtask\": \"Downloading dataset: 'val2017'\", \"current\": 4150, \"total\": 5000, \"timestamp\": \"2024-05-22T11:24:17.341Z\", \"level\": \"info\"}\n",
      "{\"message\": \"progress\", \"event_type\": \"EventType.PROGRESS\", \"subtask\": \"Downloading dataset: 'val2017'\", \"current\": 4200, \"total\": 5000, \"timestamp\": \"2024-05-22T11:24:18.326Z\", \"level\": \"info\"}\n",
      "{\"message\": \"progress\", \"event_type\": \"EventType.PROGRESS\", \"subtask\": \"Downloading dataset: 'val2017'\", \"current\": 4250, \"total\": 5000, \"timestamp\": \"2024-05-22T11:24:19.661Z\", \"level\": \"info\"}\n",
      "{\"message\": \"progress\", \"event_type\": \"EventType.PROGRESS\", \"subtask\": \"Downloading dataset: 'val2017'\", \"current\": 4300, \"total\": 5000, \"timestamp\": \"2024-05-22T11:24:20.538Z\", \"level\": \"info\"}\n",
      "{\"message\": \"progress\", \"event_type\": \"EventType.PROGRESS\", \"subtask\": \"Downloading dataset: 'val2017'\", \"current\": 4350, \"total\": 5000, \"timestamp\": \"2024-05-22T11:24:21.584Z\", \"level\": \"info\"}\n",
      "{\"message\": \"progress\", \"event_type\": \"EventType.PROGRESS\", \"subtask\": \"Downloading dataset: 'val2017'\", \"current\": 4400, \"total\": 5000, \"timestamp\": \"2024-05-22T11:24:22.496Z\", \"level\": \"info\"}\n",
      "{\"message\": \"progress\", \"event_type\": \"EventType.PROGRESS\", \"subtask\": \"Downloading dataset: 'val2017'\", \"current\": 4450, \"total\": 5000, \"timestamp\": \"2024-05-22T11:24:23.430Z\", \"level\": \"info\"}\n",
      "{\"message\": \"progress\", \"event_type\": \"EventType.PROGRESS\", \"subtask\": \"Downloading dataset: 'val2017'\", \"current\": 4500, \"total\": 5000, \"timestamp\": \"2024-05-22T11:24:24.495Z\", \"level\": \"info\"}\n",
      "{\"message\": \"progress\", \"event_type\": \"EventType.PROGRESS\", \"subtask\": \"Downloading dataset: 'val2017'\", \"current\": 4550, \"total\": 5000, \"timestamp\": \"2024-05-22T11:24:26.252Z\", \"level\": \"info\"}\n",
      "{\"message\": \"progress\", \"event_type\": \"EventType.PROGRESS\", \"subtask\": \"Downloading dataset: 'val2017'\", \"current\": 4600, \"total\": 5000, \"timestamp\": \"2024-05-22T11:24:27.355Z\", \"level\": \"info\"}\n",
      "{\"message\": \"progress\", \"event_type\": \"EventType.PROGRESS\", \"subtask\": \"Downloading dataset: 'val2017'\", \"current\": 4650, \"total\": 5000, \"timestamp\": \"2024-05-22T11:24:28.269Z\", \"level\": \"info\"}\n",
      "{\"message\": \"progress\", \"event_type\": \"EventType.PROGRESS\", \"subtask\": \"Downloading dataset: 'val2017'\", \"current\": 4700, \"total\": 5000, \"timestamp\": \"2024-05-22T11:24:29.202Z\", \"level\": \"info\"}\n",
      "{\"message\": \"progress\", \"event_type\": \"EventType.PROGRESS\", \"subtask\": \"Downloading dataset: 'val2017'\", \"current\": 4750, \"total\": 5000, \"timestamp\": \"2024-05-22T11:24:30.866Z\", \"level\": \"info\"}\n",
      "{\"message\": \"progress\", \"event_type\": \"EventType.PROGRESS\", \"subtask\": \"Downloading dataset: 'val2017'\", \"current\": 4800, \"total\": 5000, \"timestamp\": \"2024-05-22T11:24:31.845Z\", \"level\": \"info\"}\n",
      "{\"message\": \"progress\", \"event_type\": \"EventType.PROGRESS\", \"subtask\": \"Downloading dataset: 'val2017'\", \"current\": 4850, \"total\": 5000, \"timestamp\": \"2024-05-22T11:24:32.870Z\", \"level\": \"info\"}\n",
      "{\"message\": \"progress\", \"event_type\": \"EventType.PROGRESS\", \"subtask\": \"Downloading dataset: 'val2017'\", \"current\": 4900, \"total\": 5000, \"timestamp\": \"2024-05-22T11:24:33.867Z\", \"level\": \"info\"}\n",
      "{\"message\": \"progress\", \"event_type\": \"EventType.PROGRESS\", \"subtask\": \"Downloading dataset: 'val2017'\", \"current\": 4950, \"total\": 5000, \"timestamp\": \"2024-05-22T11:24:34.752Z\", \"level\": \"info\"}\n",
      "{\"message\": \"progress\", \"event_type\": \"EventType.PROGRESS\", \"subtask\": \"Downloading dataset: 'val2017'\", \"current\": 5000, \"total\": 5000, \"timestamp\": \"2024-05-22T11:24:35.738Z\", \"level\": \"info\"}\n"
     ]
    }
   ],
   "source": [
    "# Download projects\n",
    "sly.download(api, gt_project_id, gt_project_path, dataset_ids=[gt_dataset_id], log_progress=True, save_images=False)\n",
    "# sly.download(api, dt_project_id, dt_project_path, dataset_ids=[dt_dataset_id], log_progress=True, save_images=False)"
   ]
  },
  {
   "cell_type": "code",
   "execution_count": 53,
   "metadata": {},
   "outputs": [
    {
     "data": {
      "text/plain": [
       "<module 'model_benchmark.sly2coco' from '/root/model-benchmark/model_benchmark/sly2coco.py'>"
      ]
     },
     "execution_count": 53,
     "metadata": {},
     "output_type": "execute_result"
    }
   ],
   "source": [
    "from model_benchmark import sly2coco\n",
    "from importlib import reload\n",
    "reload(sly2coco)"
   ]
  },
  {
   "cell_type": "code",
   "execution_count": null,
   "metadata": {},
   "outputs": [],
   "source": [
    "# %%time\n",
    "# cocoGt = sly2coco.sly2coco(gt_project_path, gt_dataset_name, is_dt_dataset=False)\n",
    "# cocoDt = sly2coco.sly2coco(dt_project_path, dt_dataset_name, is_dt_dataset=True)\n",
    "\n",
    "# assert cocoDt['categories'] == cocoGt['categories']\n",
    "# assert all([img1['file_name'] == img1['file_name'] for img1, img2 in zip(cocoGt['images'], cocoDt['images'])])"
   ]
  },
  {
   "cell_type": "code",
   "execution_count": 54,
   "metadata": {},
   "outputs": [],
   "source": [
    "cocoGt = sly2coco.sly2coco(gt_project_path, gt_dataset_name, is_dt_dataset=False, accepted_shapes=['rectangle'])\n",
    "cocoGt_path = os.path.join(save_project_path, \"cocoGt.json\")\n",
    "with open(cocoGt_path, 'w') as f:\n",
    "    json.dump(cocoGt, f)"
   ]
  },
  {
   "cell_type": "code",
   "execution_count": 37,
   "metadata": {},
   "outputs": [],
   "source": [
    "cocoDt = sly2coco.sly2coco(dt_project_path, dt_dataset_name, is_dt_dataset=True)\n",
    "cocoDt_path = os.path.join(save_project_path, \"cocoDt.json\")\n",
    "with open(cocoDt_path, 'w') as f:\n",
    "    json.dump(cocoDt['annotations'], f)"
   ]
  },
  {
   "cell_type": "code",
   "execution_count": null,
   "metadata": {},
   "outputs": [],
   "source": []
  },
  {
   "cell_type": "code",
   "execution_count": 44,
   "metadata": {},
   "outputs": [],
   "source": [
    "# Remap cocoGt ids to match cocoDt ids\n",
    "with open(\"cocoGt.json\", 'r') as f:\n",
    "    cocoGt = json.load(f)\n",
    "\n",
    "img_id_map = {}\n",
    "images_sorted = sorted(cocoGt[\"images\"], key=lambda x: x[\"file_name\"])\n",
    "for i, img in enumerate(images_sorted):\n",
    "    img_id_map[img[\"id\"]] = i\n",
    "    img[\"id\"] = i\n",
    "cocoGt[\"images\"] = images_sorted\n",
    "\n",
    "# Remap annotations (catIds)\n",
    "cat_id_map = {}\n",
    "for cat_id_dt in cocoDt[\"categories\"]:\n",
    "    for cat_id_gt in cocoGt[\"categories\"]:\n",
    "        if cat_id_dt[\"name\"] == cat_id_gt[\"name\"]:\n",
    "            cat_id_map[cat_id_gt[\"id\"]] = cat_id_dt[\"id\"]\n",
    "            break\n",
    "for ann in cocoGt[\"annotations\"]:\n",
    "    ann[\"category_id\"] = cat_id_map[ann[\"category_id\"]]\n",
    "    ann[\"image_id\"] = img_id_map[ann[\"image_id\"]]\n",
    "cocoGt[\"categories\"] = cocoDt[\"categories\"]\n",
    "\n",
    "with open(\"cocoGt_sorted.json\", 'w') as f:\n",
    "    json.dump(cocoGt, f)"
   ]
  },
  {
   "cell_type": "code",
   "execution_count": null,
   "metadata": {},
   "outputs": [],
   "source": [
    "# rtdetr-50 ep200: 0.177\n",
    "# rtdetr-50 ep60: 0.213\n",
    "# rtdetr-50 EMA ep60: 0.189\n",
    "# rtdetr-50 MODEL ep60: 0.188"
   ]
  }
 ],
 "metadata": {
  "kernelspec": {
   "display_name": "Python 3",
   "language": "python",
   "name": "python3"
  },
  "language_info": {
   "codemirror_mode": {
    "name": "ipython",
    "version": 3
   },
   "file_extension": ".py",
   "mimetype": "text/x-python",
   "name": "python",
   "nbconvert_exporter": "python",
   "pygments_lexer": "ipython3",
   "version": "3.8.10"
  }
 },
 "nbformat": 4,
 "nbformat_minor": 2
}
