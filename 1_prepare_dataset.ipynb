{
 "cells": [
  {
   "cell_type": "code",
   "execution_count": null,
   "metadata": {},
   "outputs": [],
   "source": [
    "import os\n",
    "import json\n",
    "from time import time\n",
    "import supervisely as sly\n",
    "from model_benchmark import sly2coco"
   ]
  },
  {
   "cell_type": "code",
   "execution_count": null,
   "metadata": {},
   "outputs": [],
   "source": [
    "gt_dataset_id = 87510\n",
    "dt_dataset_id = 91289\n",
    "save_path = 'data/model-benchmark'"
   ]
  },
  {
   "cell_type": "code",
   "execution_count": null,
   "metadata": {},
   "outputs": [],
   "source": [
    "api = sly.Api()\n",
    "\n",
    "gt_dataset_info = api.dataset.get_info_by_id(gt_dataset_id)\n",
    "gt_dataset_name = gt_dataset_info.name\n",
    "gt_project_id = gt_dataset_info.project_id\n",
    "gt_project_info = api.project.get_info_by_id(gt_project_id)\n",
    "gt_project_name = gt_project_info.name\n",
    "\n",
    "dt_dataset_info = api.dataset.get_info_by_id(dt_dataset_id)\n",
    "dt_dataset_name = dt_dataset_info.name\n",
    "dt_project_id = dt_dataset_info.project_id\n",
    "dt_project_info = api.project.get_info_by_id(dt_project_id)\n",
    "dt_project_name = dt_project_info.name\n",
    "\n",
    "assert gt_dataset_name == dt_dataset_name\n",
    "\n",
    "save_project_path = os.path.join(save_path, dt_project_name)\n",
    "gt_project_path = os.path.join(save_project_path, \"gt_dataset\")\n",
    "dt_project_path = os.path.join(save_project_path, \"dt_dataset\")"
   ]
  },
  {
   "cell_type": "code",
   "execution_count": null,
   "metadata": {},
   "outputs": [],
   "source": [
    "# Download projects\n",
    "# sly.download(api, gt_project_id, gt_project_path, dataset_ids=[gt_dataset_id], log_progress=True, save_images=False)\n",
    "sly.download(api, dt_project_id, dt_project_path, dataset_ids=[dt_dataset_id], log_progress=True, save_images=False)"
   ]
  },
  {
   "cell_type": "code",
   "execution_count": null,
   "metadata": {},
   "outputs": [],
   "source": [
    "from model_benchmark import sly2coco\n",
    "from importlib import reload\n",
    "reload(sly2coco)"
   ]
  },
  {
   "cell_type": "code",
   "execution_count": null,
   "metadata": {},
   "outputs": [],
   "source": [
    "# %%time\n",
    "# cocoGt = sly2coco.sly2coco(gt_project_path, gt_dataset_name, is_dt_dataset=False)\n",
    "# cocoDt = sly2coco.sly2coco(dt_project_path, dt_dataset_name, is_dt_dataset=True)\n",
    "\n",
    "# assert cocoDt['categories'] == cocoGt['categories']\n",
    "# assert all([img1['file_name'] == img1['file_name'] for img1, img2 in zip(cocoGt['images'], cocoDt['images'])])"
   ]
  },
  {
   "cell_type": "code",
   "execution_count": null,
   "metadata": {},
   "outputs": [],
   "source": [
    "cocoGt = sly2coco.sly2coco(gt_project_path, gt_dataset_name, is_dt_dataset=False, accepted_shapes=['rectangle'])\n",
    "cocoGt_path = os.path.join(save_project_path, \"cocoGt.json\")\n",
    "with open(cocoGt_path, 'w') as f:\n",
    "    json.dump(cocoGt, f)"
   ]
  },
  {
   "cell_type": "code",
   "execution_count": null,
   "metadata": {},
   "outputs": [],
   "source": [
    "t0 = time()\n",
    "cocoDt = sly2coco.sly2coco(dt_project_path, dt_dataset_name, is_dt_dataset=True, accepted_shapes=['rectangle'])\n",
    "print(f\"sly2coco time: {time() - t0:.2f} sec\")\n",
    "print(\"Number of annotations: \", len(cocoDt['annotations']))\n",
    "\n",
    "cocoDt_path = os.path.join(save_project_path, \"cocoDt.json\")\n",
    "with open(cocoDt_path, 'w') as f:\n",
    "    json.dump(cocoDt['annotations'], f)"
   ]
  },
  {
   "cell_type": "code",
   "execution_count": null,
   "metadata": {},
   "outputs": [],
   "source": []
  },
  {
   "cell_type": "code",
   "execution_count": null,
   "metadata": {},
   "outputs": [],
   "source": [
    "# Remap cocoGt ids to match cocoDt ids\n",
    "with open(\"cocoGt.json\", 'r') as f:\n",
    "    cocoGt = json.load(f)\n",
    "\n",
    "img_id_map = {}\n",
    "images_sorted = sorted(cocoGt[\"images\"], key=lambda x: x[\"file_name\"])\n",
    "for i, img in enumerate(images_sorted):\n",
    "    img_id_map[img[\"id\"]] = i\n",
    "    img[\"id\"] = i\n",
    "cocoGt[\"images\"] = images_sorted\n",
    "\n",
    "# Remap annotations (catIds)\n",
    "cat_id_map = {}\n",
    "for cat_id_dt in cocoDt[\"categories\"]:\n",
    "    for cat_id_gt in cocoGt[\"categories\"]:\n",
    "        if cat_id_dt[\"name\"] == cat_id_gt[\"name\"]:\n",
    "            cat_id_map[cat_id_gt[\"id\"]] = cat_id_dt[\"id\"]\n",
    "            break\n",
    "for ann in cocoGt[\"annotations\"]:\n",
    "    ann[\"category_id\"] = cat_id_map[ann[\"category_id\"]]\n",
    "    ann[\"image_id\"] = img_id_map[ann[\"image_id\"]]\n",
    "cocoGt[\"categories\"] = cocoDt[\"categories\"]\n",
    "\n",
    "with open(\"cocoGt_sorted.json\", 'w') as f:\n",
    "    json.dump(cocoGt, f)"
   ]
  },
  {
   "cell_type": "code",
   "execution_count": null,
   "metadata": {},
   "outputs": [],
   "source": [
    "# rtdetr-50 ep200: 0.177\n",
    "# rtdetr-50 ep60: 0.213\n",
    "# rtdetr-50 EMA ep60: 0.189\n",
    "# rtdetr-50 MODEL ep60: 0.188"
   ]
  }
 ],
 "metadata": {
  "kernelspec": {
   "display_name": "Python 3",
   "language": "python",
   "name": "python3"
  },
  "language_info": {
   "codemirror_mode": {
    "name": "ipython",
    "version": 3
   },
   "file_extension": ".py",
   "mimetype": "text/x-python",
   "name": "python",
   "nbconvert_exporter": "python",
   "pygments_lexer": "ipython3",
   "version": "3.8.10"
  }
 },
 "nbformat": 4,
 "nbformat_minor": 2
}
