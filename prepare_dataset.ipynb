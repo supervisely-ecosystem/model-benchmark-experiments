{
 "cells": [
  {
   "cell_type": "code",
   "execution_count": 1,
   "metadata": {},
   "outputs": [],
   "source": [
    "gt_dataset_id = 88850\n",
    "dt_dataset_id = 89661\n",
    "save_path = 'data/model-benchmark'"
   ]
  },
  {
   "cell_type": "code",
   "execution_count": null,
   "metadata": {},
   "outputs": [],
   "source": [
    "import supervisely as sly\n",
    "import json\n",
    "import os\n",
    "from model_benchmark import sly2coco\n",
    "\n",
    "api = sly.Api()\n",
    "\n",
    "gt_dataset_info = api.dataset.get_info_by_id(gt_dataset_id)\n",
    "gt_dataset_name = gt_dataset_info.name\n",
    "gt_project_id = gt_dataset_info.project_id\n",
    "gt_project_info = api.project.get_info_by_id(gt_project_id)\n",
    "gt_project_name = gt_project_info.name\n",
    "\n",
    "dt_dataset_info = api.dataset.get_info_by_id(dt_dataset_id)\n",
    "dt_dataset_name = dt_dataset_info.name\n",
    "dt_project_id = dt_dataset_info.project_id\n",
    "dt_project_info = api.project.get_info_by_id(dt_project_id)\n",
    "dt_project_name = dt_project_info.name\n",
    "\n",
    "assert gt_dataset_name == dt_dataset_name\n",
    "\n",
    "save_project_path = os.path.join(save_path, dt_project_name)\n",
    "gt_project_path = os.path.join(save_project_path, \"gt_dataset\")\n",
    "dt_project_path = os.path.join(save_project_path, \"dt_dataset\")\n",
    "\n",
    "# Download project\n",
    "sly.download(api, gt_project_id, gt_project_path, dataset_ids=[gt_dataset_id], log_progress=True, save_images=False)\n",
    "sly.download(api, dt_project_id, dt_dataset_id, dataset_ids=[dt_dataset_id], log_progress=True, save_images=False)"
   ]
  },
  {
   "cell_type": "code",
   "execution_count": 12,
   "metadata": {},
   "outputs": [
    {
     "data": {
      "text/plain": [
       "<module 'model_benchmark.sly2coco' from '/root/model-benchmark/model_benchmark/sly2coco.py'>"
      ]
     },
     "execution_count": 12,
     "metadata": {},
     "output_type": "execute_result"
    }
   ],
   "source": [
    "# from model_benchmark import sly2coco\n",
    "# from importlib import reload\n",
    "# reload(sly2coco)"
   ]
  },
  {
   "cell_type": "code",
   "execution_count": 28,
   "metadata": {},
   "outputs": [],
   "source": [
    "# %%time\n",
    "cocoGt = sly2coco.sly2coco(gt_project_path, gt_dataset_name, is_dt_dataset=False)\n",
    "cocoDt = sly2coco.sly2coco(dt_project_path, dt_dataset_name, is_dt_dataset=True)\n",
    "\n",
    "assert cocoDt['categories'] == cocoGt['categories']\n",
    "assert all([img1['file_name'] == img1['file_name'] for img1, img2 in zip(cocoGt['images'], cocoDt['images'])])"
   ]
  },
  {
   "cell_type": "code",
   "execution_count": 29,
   "metadata": {},
   "outputs": [],
   "source": [
    "cocoGt_path = os.path.join(save_project_path, \"cocoGt.json\")\n",
    "cocoDt_path = os.path.join(save_project_path, \"cocoDt.json\")\n",
    "with open(cocoGt_path, 'w') as f:\n",
    "    json.dump(cocoGt, f)\n",
    "with open(cocoDt_path, 'w') as f:\n",
    "    json.dump(cocoDt['annotations'], f)"
   ]
  },
  {
   "cell_type": "code",
   "execution_count": null,
   "metadata": {},
   "outputs": [],
   "source": [
    "# rtdetr-50 ep200: 0.177\n",
    "# rtdetr-50 ep60: 0.213\n",
    "# rtdetr-50 EMA ep60: 0.189\n",
    "# rtdetr-50 MODEL ep60: 0.188"
   ]
  }
 ],
 "metadata": {
  "kernelspec": {
   "display_name": "Python 3",
   "language": "python",
   "name": "python3"
  },
  "language_info": {
   "codemirror_mode": {
    "name": "ipython",
    "version": 3
   },
   "file_extension": ".py",
   "mimetype": "text/x-python",
   "name": "python",
   "nbconvert_exporter": "python",
   "pygments_lexer": "ipython3",
   "version": "3.8.10"
  }
 },
 "nbformat": 4,
 "nbformat_minor": 2
}
