{
 "cells": [
  {
   "cell_type": "code",
   "execution_count": null,
   "metadata": {},
   "outputs": [],
   "source": [
    "import numpy as np\n",
    "from matplotlib import pyplot as plt\n",
    "from pycocotools.coco import COCO\n",
    "from pycocotools.cocoeval import COCOeval, Params\n",
    "import plotly.express as px\n",
    "import plotly.graph_objects as go\n",
    "import pandas as pd\n",
    "from collections import defaultdict\n",
    "import random\n",
    "import pickle\n",
    "\n",
    "from model_benchmark import metrics, utils\n",
    "from model_benchmark.metric_provider import MetricProvider, METRIC_NAMES\n",
    "from model_benchmark import metric_provider"
   ]
  },
  {
   "cell_type": "markdown",
   "metadata": {},
   "source": [
    "## Loading data"
   ]
  },
  {
   "cell_type": "code",
   "execution_count": null,
   "metadata": {},
   "outputs": [],
   "source": [
    "cocoGt_path = \"cocoGt_remap.json\"\n",
    "cocoDt_paths = [\n",
    "    \"data/model-benchmark/COCO 2017 val (YOLOv8-L, conf-0.01)/cocoDt.json\",\n",
    "    \"data/model-benchmark/COCO 2017 val (RT-DETR r34, conf-0.01)/cocoDt.json\",\n",
    "    \"data/model-benchmark/COCO 2017 val (DINO, conf-0.05)/cocoDt.json\"\n",
    "]\n",
    "eval_paths = [\n",
    "    \"eval_data_conf-0.01.pkl\",\n",
    "    \"eval_data_rtdetr_conf-0.01.pkl\",\n",
    "    \"eval_data_dino.pkl\"\n",
    "]\n",
    "names = [\n",
    "    \"YOLOv8-L\",\n",
    "    \"RT-DETR r34\",\n",
    "    \"DINO\"\n",
    "]"
   ]
  },
  {
   "cell_type": "code",
   "execution_count": null,
   "metadata": {},
   "outputs": [],
   "source": [
    "cocoGt = COCO(cocoGt_path)\n",
    "cocoDts = [cocoGt.loadRes(cocoDt_path) for cocoDt_path in cocoDt_paths]"
   ]
  },
  {
   "cell_type": "code",
   "execution_count": null,
   "metadata": {},
   "outputs": [],
   "source": [
    "from time import time\n",
    "from importlib import reload\n",
    "reload(metric_provider)\n",
    "\n",
    "providers_full = []\n",
    "providers = []\n",
    "\n",
    "for cocoDt, eval_path in zip(cocoDts, eval_paths):\n",
    "    with open(eval_path, 'rb') as f:\n",
    "        eval_data = pickle.load(f)\n",
    "    \n",
    "    t0 = time()\n",
    "    m_full = metric_provider.MetricProvider(eval_data['matches'], eval_data['coco_metrics'], eval_data['params'], cocoGt, cocoDt)\n",
    "\n",
    "    score_profile = m_full.confidence_score_profile()\n",
    "    f1_optimal_conf1, best_f1 = m_full.get_f1_optimal_conf()\n",
    "    matches_thresholded = metric_provider.filter_by_conf(eval_data['matches'], f1_optimal_conf1)\n",
    "    m = metric_provider.MetricProvider(matches_thresholded, eval_data['coco_metrics'], eval_data['params'], cocoGt, cocoDt)\n",
    "    print(f\"Time: {time() - t0:.2f} s\")\n",
    "\n",
    "    providers_full.append(m_full)\n",
    "    providers.append(m)"
   ]
  },
  {
   "cell_type": "markdown",
   "metadata": {},
   "source": [
    "## Overview"
   ]
  },
  {
   "cell_type": "code",
   "execution_count": null,
   "metadata": {},
   "outputs": [],
   "source": [
    "# Overall Metrics comparison\n",
    "\n",
    "fig = go.Figure()\n",
    "for m, name in zip(providers, names):\n",
    "    base_metrics = m.base_metrics()\n",
    "    r = list(base_metrics.values())\n",
    "    theta = [metric_provider.METRIC_NAMES[k] for k in base_metrics.keys()]\n",
    "    fig.add_trace(go.Scatterpolar(\n",
    "        r=r+[r[0]], theta=theta+[theta[0]], name=name,\n",
    "        hovertemplate='%{theta}: %{r:.2f}<extra></extra>',\n",
    "    ))\n",
    "fig.update_layout(polar=dict(radialaxis=dict(range=[0., 1.]),\n",
    "                             angularaxis=dict(rotation=90, direction='clockwise')),\n",
    "                  title=\"Overall Metrics\", width=600, height=500,)\n",
    "fig.show()"
   ]
  },
  {
   "cell_type": "code",
   "execution_count": null,
   "metadata": {},
   "outputs": [],
   "source": [
    "# Grouped bar chart for base metrics\n",
    "\n",
    "df = pd.DataFrame({\n",
    "    'Metric': [metric_provider.METRIC_NAMES[k] for k in base_metrics.keys()],\n",
    "    **{name: list(m.base_metrics().values()) for m, name in zip(providers, names)}\n",
    "})\n",
    "fig = px.bar(df, x='Metric', y=names, barmode='group')\n",
    "fig.update_layout(title=\"Overall Metrics\")\n",
    "fig.show()"
   ]
  },
  {
   "cell_type": "markdown",
   "metadata": {},
   "source": [
    "## Outcome Counts"
   ]
  },
  {
   "cell_type": "code",
   "execution_count": null,
   "metadata": {},
   "outputs": [],
   "source": [
    "fig = go.Figure()\n",
    "\n",
    "for m, name in zip(providers, names):\n",
    "    fig.add_traces([\n",
    "        go.Bar(x=[m.TP_count], y=[name], name='TP', orientation='h', marker=dict(color='#1fb466'), legendgroup='TP', showlegend=False),\n",
    "        go.Bar(x=[m.FN_count], y=[name], name='FN', orientation='h', marker=dict(color='#dd3f3f'), legendgroup='FN', showlegend=False),\n",
    "        go.Bar(x=[m.FP_count], y=[name], name='FP', orientation='h', marker=dict(color='#d5a5a5'), legendgroup='FP', showlegend=False)\n",
    "    ])\n",
    "\n",
    "fig.data[0].showlegend = True\n",
    "fig.data[1].showlegend = True\n",
    "fig.data[2].showlegend = True\n",
    "\n",
    "fig.update_layout(barmode='stack', title=\"Outcome Counts\",\n",
    "                  width=600, height=None)\n",
    "fig.update_xaxes(title_text=\"Count\")\n",
    "fig.update_yaxes(tickangle=0)\n",
    "fig.show()"
   ]
  },
  {
   "cell_type": "markdown",
   "metadata": {},
   "source": [
    "## Recall"
   ]
  },
  {
   "cell_type": "code",
   "execution_count": null,
   "metadata": {},
   "outputs": [],
   "source": [
    "blue_color = '#1f77b4'\n",
    "orange_color = '#ff7f0e'"
   ]
  },
  {
   "cell_type": "code",
   "execution_count": null,
   "metadata": {},
   "outputs": [],
   "source": [
    "import plotly.colors\n",
    "colors = px.colors.qualitative.Plotly\n",
    "colors_a = [f\"rgba{tuple(list(plotly.colors.hex_to_rgb(c))+[0.3])}\" for c in colors]"
   ]
  },
  {
   "cell_type": "code",
   "execution_count": null,
   "metadata": {},
   "outputs": [],
   "source": [
    "# 1. define the order of cats\n",
    "# 2. sort all metrics by the order of cats\n",
    "\n",
    "f1_mean = np.zeros(len(providers[0].cat_ids))\n",
    "per_class_metrics = []\n",
    "for m, name in zip(providers, names):\n",
    "    per_class_metrics_df = m.per_class_metrics()\n",
    "    f1_mean += per_class_metrics_df[\"f1\"]\n",
    "    per_class_metrics.append(per_class_metrics_df)\n",
    "f1_mean /= len(providers)\n",
    "\n",
    "idx_sort = np.argsort(f1_mean)"
   ]
  },
  {
   "cell_type": "code",
   "execution_count": null,
   "metadata": {},
   "outputs": [],
   "source": [
    "fig = go.Figure()\n",
    "\n",
    "for i, (df, name) in enumerate(zip(per_class_metrics, names)):\n",
    "    df = df.iloc[idx_sort]\n",
    "    fig.add_trace(\n",
    "        go.Scatter(x=df[\"category\"], y=df[\"f1\"], mode='lines', name=name, line=dict(width=3, color=colors[i]), legendgroup=name, fill='tozeroy', fillcolor=colors_a[i]),\n",
    "        )\n",
    "    \n",
    "# for i, (df, name) in enumerate(zip(per_class_metrics, names)):\n",
    "#     df = df.iloc[idx_sort]\n",
    "#     fig.add_trace(\n",
    "#         go.Scatter(x=df[\"category\"], y=df[\"f1\"], mode='lines', name=name, line=dict(width=3, color=colors[i]), legendgroup=name, showlegend=False),\n",
    "#         )\n",
    "\n",
    "fig.update_layout(title=\"F1-score (all classes)\", xaxis_title=\"Class\", yaxis_title=\"F1\", width=None, height=500)\n",
    "fig.update_xaxes(tickangle=45)\n",
    "fig.update_yaxes(range=[0., 1.])\n",
    "fig.show()"
   ]
  },
  {
   "cell_type": "code",
   "execution_count": null,
   "metadata": {},
   "outputs": [],
   "source": [
    "## F1 comparison bar chart\n",
    "fig = go.Figure()\n",
    "\n",
    "for i, (df, name) in enumerate(zip(per_class_metrics, names)):\n",
    "    df = df.iloc[idx_sort]\n",
    "    fig.add_trace(\n",
    "        go.Bar(x=df[\"category\"], y=df[\"f1\"], name=name, marker=dict(color=colors[i]), opacity=0.5)\n",
    "    )\n",
    "    \n",
    "# for i, (df, name) in enumerate(zip(per_class_metrics, names)):\n",
    "#     df = df.iloc[idx_sort]\n",
    "#     fig.add_trace(\n",
    "#         go.Scatter(x=df[\"category\"], y=df[\"f1\"], mode='lines', name=name, line=dict(width=3, color=colors[i]), legendgroup=name, showlegend=False),\n",
    "#         )\n",
    "\n",
    "fig.update_layout(title=\"F1-score (all classes)\", xaxis_title=\"Class\", yaxis_title=\"F1\", width=None, height=500,\n",
    "                   barmode='group')\n",
    "fig.update_xaxes(tickangle=45)\n",
    "fig.update_yaxes(range=[0., 1.])\n",
    "fig.show()"
   ]
  },
  {
   "cell_type": "code",
   "execution_count": null,
   "metadata": {},
   "outputs": [],
   "source": [
    "fig = go.Figure()\n",
    "\n",
    "for i, (df, name) in enumerate(zip(per_class_metrics, names)):\n",
    "    df = df.iloc[idx_sort]\n",
    "    fig.add_trace(\n",
    "        go.Scatter(x=df[\"category\"], y=df[\"precision\"], mode='lines', name=name, line=dict(width=3, color=colors[i]), legendgroup=name, fill='tozeroy', fillcolor=colors_a[i]),\n",
    "        )\n",
    "    \n",
    "fig.update_layout(title=\"Precision (all classes)\", xaxis_title=\"Class\", yaxis_title=\"Precision\", width=None, height=500)\n",
    "fig.update_xaxes(tickangle=45)\n",
    "fig.update_yaxes(range=[0., 1.])\n",
    "fig.show()"
   ]
  },
  {
   "cell_type": "code",
   "execution_count": null,
   "metadata": {},
   "outputs": [],
   "source": [
    "fig = go.Figure()\n",
    "\n",
    "for i, (df, name) in enumerate(zip(per_class_metrics, names)):\n",
    "    df = df.iloc[idx_sort]\n",
    "    fig.add_trace(\n",
    "        go.Scatter(x=df[\"category\"], y=df[\"recall\"], mode='lines', name=name, line=dict(width=3, color=colors[i]), legendgroup=name, fill='tozeroy', fillcolor=colors_a[i]),\n",
    "        )\n",
    "    \n",
    "fig.update_layout(title=\"Recall (all classes)\", xaxis_title=\"Class\", yaxis_title=\"Recall\", width=None, height=500)\n",
    "fig.update_xaxes(tickangle=45)\n",
    "fig.update_yaxes(range=[0., 1.])\n",
    "fig.show()"
   ]
  },
  {
   "cell_type": "markdown",
   "metadata": {},
   "source": [
    "## PR-curve"
   ]
  },
  {
   "cell_type": "code",
   "execution_count": null,
   "metadata": {},
   "outputs": [],
   "source": [
    "# Precision-Recall curve\n",
    "fig = go.Figure()\n",
    "for i, (m, name) in enumerate(zip(providers, names)):\n",
    "    pr_curve = m.pr_curve()\n",
    "    fig.add_trace(\n",
    "        go.Scatter(x=m.recThrs, y=pr_curve.mean(-1), mode='lines', name=name, line=dict(width=2, color=colors[i]), fill='tozeroy', fillcolor=colors_a[i]),\n",
    "    )\n",
    "    \n",
    "fig.update_layout(title=\"Precision-Recall Curve\", xaxis_title=\"Recall\", yaxis_title=\"Precision\",\n",
    "                    width=700, height=600)\n",
    "fig.update_yaxes(range=[0., 1.01])\n",
    "fig.update_xaxes(range=[0., 1.])\n",
    "fig.add_trace(\n",
    "    go.Scatter(\n",
    "        x=m.recThrs,\n",
    "        y=[1]*len(m.recThrs),\n",
    "        name=\"Perfect\",\n",
    "        line=dict(color='orange', dash='dash'),\n",
    "        showlegend=True\n",
    "    )\n",
    ")\n",
    "fig.show()"
   ]
  },
  {
   "cell_type": "markdown",
   "metadata": {},
   "source": [
    "## Calibration"
   ]
  },
  {
   "cell_type": "code",
   "execution_count": null,
   "metadata": {},
   "outputs": [],
   "source": [
    "# Calibration curve (only positive predictions)\n",
    "\n",
    "fig = go.Figure()\n",
    "\n",
    "for i, (m_full, name) in enumerate(zip(providers_full, names)):\n",
    "    true_probs, pred_probs = m_full.calibration_metrics.calibration_curve()\n",
    "    fig.add_trace(go.Scatter(x=pred_probs, y=true_probs, mode='lines+markers', name=name))\n",
    "\n",
    "# Perfectly calibrated line\n",
    "fig.add_trace(go.Scatter(x=[0, 1], y=[0, 1], mode='lines', name='Perfectly calibrated', \n",
    "                         line=dict(color='orange', dash='dash')))\n",
    "\n",
    "fig.update_layout(\n",
    "    title='Calibration Curve (only positive predictions)',\n",
    "    xaxis_title='Confidence Score',\n",
    "    yaxis_title='Fraction of True Positives',\n",
    "    legend=dict(x=0.65, y=0.1),\n",
    "    xaxis=dict(range=[0, 1]),\n",
    "    yaxis=dict(range=[0, 1]),\n",
    "    width=700, height=500\n",
    ")\n",
    "\n",
    "fig.show()"
   ]
  },
  {
   "cell_type": "code",
   "execution_count": null,
   "metadata": {},
   "outputs": [],
   "source": [
    "# Confidence score profile\n",
    "\n",
    "fig = go.Figure()\n",
    "for i, (m_full, name) in enumerate(zip(providers_full, names)):\n",
    "    score_profile = m_full.confidence_score_profile()\n",
    "    f1_optimal_conf, best_f1 = m_full.get_f1_optimal_conf()\n",
    "    f1 = score_profile['f1']\n",
    "    scores = score_profile['scores']\n",
    "\n",
    "    # downsample\n",
    "    if len(f1) > 5000:\n",
    "        f1 = f1[::len(f1)//1000]\n",
    "        scores = scores[::len(scores)//1000]\n",
    "\n",
    "    fig.add_trace(go.Scatter(x=scores, y=f1, mode='lines', name=name))\n",
    "\n",
    "    # Add vertical line for the best threshold\n",
    "    fig.add_shape(type=\"line\", x0=f1_optimal_conf, x1=f1_optimal_conf, y0=0, y1=best_f1, line=dict(color=colors[i], width=1, dash=\"dash\"))\n",
    "    fig.add_annotation(x=f1_optimal_conf, y=best_f1+0.04, text=f\"F1-optimal threshold: {f1_optimal_conf:.2f}\", showarrow=False, font=dict(color=colors[i]))\n",
    "    \n",
    "fig.update_layout(\n",
    "    yaxis=dict(range=[0, 1]),\n",
    "    xaxis=dict(range=[0, 1], tick0=0, dtick=0.1),\n",
    "    title='Confidence Score Profile',\n",
    "    xaxis_title='Confidence Score',\n",
    "    yaxis_title='F1',\n",
    "    width=None, height=500,\n",
    ")\n",
    "\n",
    "fig.show()"
   ]
  },
  {
   "cell_type": "markdown",
   "metadata": {},
   "source": [
    "## All Classes"
   ]
  },
  {
   "cell_type": "code",
   "execution_count": null,
   "metadata": {},
   "outputs": [],
   "source": [
    "# Per-class Average Precision (AP)\n",
    "\n",
    "fig = go.Figure()\n",
    "for i, (m, name) in enumerate(zip(providers, names)):\n",
    "    ap_per_class = m.coco_precision[:, :, :, 0, 2].mean(axis=(0, 1))\n",
    "    r = np.concatenate([ap_per_class, [ap_per_class[0]]])\n",
    "    theta = m.cat_names + [m.cat_names[0]]\n",
    "    fig.add_trace(go.Scatterpolar(r=r, theta=theta, name=name,\n",
    "                                  mode='lines+markers',\n",
    "                                  fill='toself',\n",
    "                                  hovertemplate='%{theta}: %{r:.2f} (AP)',\n",
    "                                  fillcolor=colors_a[i],))\n",
    "\n",
    "fig.update_layout(\n",
    "    polar=dict(\n",
    "        radialaxis=dict(range=[0, 1]),\n",
    "        angularaxis=dict(direction=\"clockwise\", rotation=90),\n",
    "        ),\n",
    "    title=\"Per-class Average Precision (AP)\",\n",
    "    width=800, height=800,\n",
    ")\n",
    "\n",
    "fig.show()"
   ]
  },
  {
   "cell_type": "markdown",
   "metadata": {},
   "source": [
    "## Per-class"
   ]
  },
  {
   "cell_type": "code",
   "execution_count": null,
   "metadata": {},
   "outputs": [],
   "source": []
  },
  {
   "cell_type": "markdown",
   "metadata": {},
   "source": [
    "## Corr-plot"
   ]
  },
  {
   "cell_type": "code",
   "execution_count": null,
   "metadata": {},
   "outputs": [],
   "source": []
  }
 ],
 "metadata": {
  "kernelspec": {
   "display_name": "Python 3",
   "language": "python",
   "name": "python3"
  },
  "language_info": {
   "codemirror_mode": {
    "name": "ipython",
    "version": 3
   },
   "file_extension": ".py",
   "mimetype": "text/x-python",
   "name": "python",
   "nbconvert_exporter": "python",
   "pygments_lexer": "ipython3",
   "version": "3.8.10"
  }
 },
 "nbformat": 4,
 "nbformat_minor": 2
}
