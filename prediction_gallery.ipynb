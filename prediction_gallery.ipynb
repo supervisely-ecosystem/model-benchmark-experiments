{
 "cells": [
  {
   "cell_type": "code",
   "execution_count": null,
   "metadata": {},
   "outputs": [],
   "source": [
    "import numpy as np\n",
    "from matplotlib import pyplot as plt\n",
    "from pycocotools.coco import COCO\n",
    "from pycocotools.cocoeval import COCOeval, Params\n",
    "import plotly.express as px\n",
    "import plotly.graph_objects as go\n",
    "import pandas as pd\n",
    "from PIL import Image\n",
    "import supervisely as sly\n",
    "import json\n",
    "from IPython.display import display\n",
    "\n",
    "from model_benchmark import metrics, utils\n",
    "from model_benchmark.metric_provider import MetricProvider, METRIC_NAMES\n",
    "from model_benchmark import metric_provider\n",
    "from model_benchmark.prediction_gallery import prediction_gallery"
   ]
  },
  {
   "cell_type": "markdown",
   "metadata": {},
   "source": [
    "## Loading data"
   ]
  },
  {
   "cell_type": "code",
   "execution_count": null,
   "metadata": {},
   "outputs": [],
   "source": [
    "cocoGt_path = \"cocoGt_remap.json\"\n",
    "cocoDt_path = \"data/model-benchmark/COCO 2017 val (YOLOv8-L, conf-0.01)/cocoDt.json\"\n",
    "eval_data_path = \"eval_data_conf-0.01.pkl\""
   ]
  },
  {
   "cell_type": "code",
   "execution_count": null,
   "metadata": {},
   "outputs": [],
   "source": [
    "cocoGt = COCO(cocoGt_path)\n",
    "cocoDt = cocoGt.loadRes(cocoDt_path)\n",
    "# cocoEval = COCOeval(cocoGt, cocoDt, 'bbox')\n",
    "\n",
    "import pickle\n",
    "with open(eval_data_path, 'rb') as f:\n",
    "    eval_data = pickle.load(f)"
   ]
  },
  {
   "cell_type": "code",
   "execution_count": null,
   "metadata": {},
   "outputs": [],
   "source": [
    "from importlib import reload\n",
    "reload(metric_provider)\n",
    "m = metric_provider.MetricProvider(eval_data['matches'], eval_data['coco_metrics'], eval_data['params'], cocoGt, cocoDt)\n",
    "m.base_metrics()"
   ]
  },
  {
   "cell_type": "code",
   "execution_count": null,
   "metadata": {},
   "outputs": [],
   "source": [
    "cat_ids_rare, cat_names_rare = utils.get_rare_classes(cocoGt)\n",
    "gallery = prediction_gallery(m.matches, cocoGt, cat_ids_rare)"
   ]
  },
  {
   "cell_type": "code",
   "execution_count": null,
   "metadata": {},
   "outputs": [],
   "source": [
    "image_dir = \"data/COCO2017/img/val2017/\"\n",
    "ann_dir_gt = \"data/model-benchmark/COCO 2017 val (YOLOv8-L, conf-25)/gt_dataset/val2017/ann/\"\n",
    "ann_dir_dt = \"data/model-benchmark/COCO 2017 val (YOLOv8-L, conf-25)/dt_dataset/val2017/ann/\"\n",
    "meta_gt = \"data/model-benchmark/COCO 2017 val (YOLOv8-L, conf-25)/gt_dataset/meta.json\"\n",
    "meta_dt = \"data/model-benchmark/COCO 2017 val (YOLOv8-L, conf-25)/dt_dataset/meta.json\"\n",
    "with open(meta_gt, 'r') as f:\n",
    "    meta_gt = json.load(f)\n",
    "with open(meta_dt, 'r') as f:\n",
    "    meta_dt = json.load(f)\n",
    "meta_gt = sly.ProjectMeta.from_json(meta_gt)\n",
    "meta_dt = sly.ProjectMeta.from_json(meta_dt)\n",
    "\n",
    "def get_diffs(img_id, matches):\n",
    "    img_name = cocoGt.loadImgs(img_id)[0]['file_name']\n",
    "    img = Image.open(image_dir + img_name)\n",
    "    ann_gt = sly.Annotation.load_json_file(ann_dir_gt + img_name+'.json', meta_gt)\n",
    "    ann_gt = ann_gt.clone(labels=[l for l in ann_gt.labels if l.geometry.geometry_name() == \"rectangle\"])\n",
    "    ann_dt = sly.Annotation.load_json_file(ann_dir_dt + img_name+'.json', meta_dt)\n",
    "    img_gt = np.array(img)\n",
    "    img_dt = np.array(img)\n",
    "    ann_gt.draw(img_gt, thickness=2, draw_class_names=True, fill_rectangles=False)\n",
    "    ann_dt.draw(img_dt, thickness=2, draw_class_names=True, fill_rectangles=False)\n",
    "    # img_gt = Image.fromarray(img_gt)\n",
    "    # img_dt = Image.fromarray(img_dt)\n",
    "\n",
    "    that_matches = [match for match in matches if match['image_id'] == img_id and match['type'] != 'TP']\n",
    "\n",
    "    labels = []\n",
    "    for match in that_matches:\n",
    "        if match['gt_id'] is not None:\n",
    "            # FN\n",
    "            label = cocoGt.anns[match['gt_id']]\n",
    "            if label['iscrowd']:\n",
    "                print(\"iscrowd\")\n",
    "                continue\n",
    "            bbox = label['bbox']\n",
    "            cat_id = label['category_id']\n",
    "            cat_name = cocoGt.loadCats(cat_id)[0]['name']\n",
    "            obj_class = meta_gt.get_obj_class(cat_name)\n",
    "            obj_class = obj_class.clone(color=(245,140,40))\n",
    "            left, top, width, height = bbox\n",
    "            rect = sly.Rectangle(top=top, left=left, bottom=top+height-1, right=left+width-1)\n",
    "            label = sly.Label(rect, obj_class)\n",
    "        elif match['dt_id'] is not None:\n",
    "            # FP\n",
    "            label = cocoDt.anns[match['dt_id']]\n",
    "            bbox = label['bbox']\n",
    "            cat_id = label['category_id']\n",
    "            cat_name = cocoDt.loadCats(cat_id)[0]['name']\n",
    "            obj_class = meta_dt.get_obj_class(cat_name)\n",
    "            obj_class = obj_class.clone(color=(245,40,40))\n",
    "            left, top, width, height = bbox\n",
    "            rect = sly.Rectangle(top=top, left=left, bottom=top+height-1, right=left+width-1)\n",
    "            label = sly.Label(rect, obj_class)\n",
    "        labels.append(label)\n",
    "    ann_diff = ann_gt.clone(labels=labels)\n",
    "    img_diff = np.array(img)\n",
    "    ann_diff.draw_pretty(img_diff, thickness=2)\n",
    "    # img_diff = Image.fromarray(img_diff)\n",
    "\n",
    "    # join images at X axis\n",
    "    img_join = np.concatenate([img_gt, img_dt, img_diff], axis=1)\n",
    "\n",
    "    return img_join\n"
   ]
  },
  {
   "cell_type": "code",
   "execution_count": null,
   "metadata": {},
   "outputs": [],
   "source": [
    "N = 12\n",
    "gallery_keys = list(gallery.keys())\n",
    "gallery_keys = gallery_keys[:6]\n",
    "for i in range(N):\n",
    "    idx = i % len(gallery_keys)\n",
    "    k = i // len(gallery_keys)\n",
    "    key = gallery_keys[idx]\n",
    "    row = gallery[key][k]\n",
    "\n",
    "    img_id = row[0]\n",
    "    img_join = get_diffs(img_id, m.matches)\n",
    "    print(key, row[1])\n",
    "    display(Image.fromarray(img_join))"
   ]
  },
  {
   "cell_type": "code",
   "execution_count": null,
   "metadata": {},
   "outputs": [],
   "source": []
  }
 ],
 "metadata": {
  "kernelspec": {
   "display_name": "Python 3",
   "language": "python",
   "name": "python3"
  },
  "language_info": {
   "codemirror_mode": {
    "name": "ipython",
    "version": 3
   },
   "file_extension": ".py",
   "mimetype": "text/x-python",
   "name": "python",
   "nbconvert_exporter": "python",
   "pygments_lexer": "ipython3",
   "version": "3.8.10"
  }
 },
 "nbformat": 4,
 "nbformat_minor": 2
}
